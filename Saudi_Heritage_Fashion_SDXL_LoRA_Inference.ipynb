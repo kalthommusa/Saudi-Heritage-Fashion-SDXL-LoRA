{
  "cells": [
    {
      "cell_type": "code",
      "execution_count": null,
      "metadata": {
        "colab": {
          "base_uri": "https://localhost:8080/"
        },
        "id": "iairnYQReHfY",
        "outputId": "154fad52-0d9e-42da-f833-cb40333b5de2"
      },
      "outputs": [
        {
          "name": "stdout",
          "output_type": "stream",
          "text": [
            "Requirement already satisfied: diffusers in /usr/local/lib/python3.11/dist-packages (0.34.0)\n",
            "Requirement already satisfied: transformers in /usr/local/lib/python3.11/dist-packages (4.53.2)\n",
            "Requirement already satisfied: accelerate in /usr/local/lib/python3.11/dist-packages (1.8.1)\n",
            "Requirement already satisfied: importlib_metadata in /usr/local/lib/python3.11/dist-packages (from diffusers) (8.7.0)\n",
            "Requirement already satisfied: filelock in /usr/local/lib/python3.11/dist-packages (from diffusers) (3.18.0)\n",
            "Requirement already satisfied: huggingface-hub>=0.27.0 in /usr/local/lib/python3.11/dist-packages (from diffusers) (0.33.4)\n",
            "Requirement already satisfied: numpy in /usr/local/lib/python3.11/dist-packages (from diffusers) (2.0.2)\n",
            "Requirement already satisfied: regex!=2019.12.17 in /usr/local/lib/python3.11/dist-packages (from diffusers) (2024.11.6)\n",
            "Requirement already satisfied: requests in /usr/local/lib/python3.11/dist-packages (from diffusers) (2.32.3)\n",
            "Requirement already satisfied: safetensors>=0.3.1 in /usr/local/lib/python3.11/dist-packages (from diffusers) (0.5.3)\n",
            "Requirement already satisfied: Pillow in /usr/local/lib/python3.11/dist-packages (from diffusers) (11.2.1)\n",
            "Requirement already satisfied: packaging>=20.0 in /usr/local/lib/python3.11/dist-packages (from transformers) (24.2)\n",
            "Requirement already satisfied: pyyaml>=5.1 in /usr/local/lib/python3.11/dist-packages (from transformers) (6.0.2)\n",
            "Requirement already satisfied: tokenizers<0.22,>=0.21 in /usr/local/lib/python3.11/dist-packages (from transformers) (0.21.2)\n",
            "Requirement already satisfied: tqdm>=4.27 in /usr/local/lib/python3.11/dist-packages (from transformers) (4.67.1)\n",
            "Requirement already satisfied: psutil in /usr/local/lib/python3.11/dist-packages (from accelerate) (5.9.5)\n",
            "Requirement already satisfied: torch>=2.0.0 in /usr/local/lib/python3.11/dist-packages (from accelerate) (2.6.0+cu124)\n",
            "Requirement already satisfied: fsspec>=2023.5.0 in /usr/local/lib/python3.11/dist-packages (from huggingface-hub>=0.27.0->diffusers) (2025.3.2)\n",
            "Requirement already satisfied: typing-extensions>=3.7.4.3 in /usr/local/lib/python3.11/dist-packages (from huggingface-hub>=0.27.0->diffusers) (4.14.1)\n",
            "Requirement already satisfied: hf-xet<2.0.0,>=1.1.2 in /usr/local/lib/python3.11/dist-packages (from huggingface-hub>=0.27.0->diffusers) (1.1.5)\n",
            "Requirement already satisfied: networkx in /usr/local/lib/python3.11/dist-packages (from torch>=2.0.0->accelerate) (3.5)\n",
            "Requirement already satisfied: jinja2 in /usr/local/lib/python3.11/dist-packages (from torch>=2.0.0->accelerate) (3.1.6)\n",
            "Collecting nvidia-cuda-nvrtc-cu12==12.4.127 (from torch>=2.0.0->accelerate)\n",
            "  Downloading nvidia_cuda_nvrtc_cu12-12.4.127-py3-none-manylinux2014_x86_64.whl.metadata (1.5 kB)\n",
            "Collecting nvidia-cuda-runtime-cu12==12.4.127 (from torch>=2.0.0->accelerate)\n",
            "  Downloading nvidia_cuda_runtime_cu12-12.4.127-py3-none-manylinux2014_x86_64.whl.metadata (1.5 kB)\n",
            "Collecting nvidia-cuda-cupti-cu12==12.4.127 (from torch>=2.0.0->accelerate)\n",
            "  Downloading nvidia_cuda_cupti_cu12-12.4.127-py3-none-manylinux2014_x86_64.whl.metadata (1.6 kB)\n",
            "Collecting nvidia-cudnn-cu12==9.1.0.70 (from torch>=2.0.0->accelerate)\n",
            "  Downloading nvidia_cudnn_cu12-9.1.0.70-py3-none-manylinux2014_x86_64.whl.metadata (1.6 kB)\n",
            "Collecting nvidia-cublas-cu12==12.4.5.8 (from torch>=2.0.0->accelerate)\n",
            "  Downloading nvidia_cublas_cu12-12.4.5.8-py3-none-manylinux2014_x86_64.whl.metadata (1.5 kB)\n",
            "Collecting nvidia-cufft-cu12==11.2.1.3 (from torch>=2.0.0->accelerate)\n",
            "  Downloading nvidia_cufft_cu12-11.2.1.3-py3-none-manylinux2014_x86_64.whl.metadata (1.5 kB)\n",
            "Collecting nvidia-curand-cu12==10.3.5.147 (from torch>=2.0.0->accelerate)\n",
            "  Downloading nvidia_curand_cu12-10.3.5.147-py3-none-manylinux2014_x86_64.whl.metadata (1.5 kB)\n",
            "Collecting nvidia-cusolver-cu12==11.6.1.9 (from torch>=2.0.0->accelerate)\n",
            "  Downloading nvidia_cusolver_cu12-11.6.1.9-py3-none-manylinux2014_x86_64.whl.metadata (1.6 kB)\n",
            "Collecting nvidia-cusparse-cu12==12.3.1.170 (from torch>=2.0.0->accelerate)\n",
            "  Downloading nvidia_cusparse_cu12-12.3.1.170-py3-none-manylinux2014_x86_64.whl.metadata (1.6 kB)\n",
            "Requirement already satisfied: nvidia-cusparselt-cu12==0.6.2 in /usr/local/lib/python3.11/dist-packages (from torch>=2.0.0->accelerate) (0.6.2)\n",
            "Requirement already satisfied: nvidia-nccl-cu12==2.21.5 in /usr/local/lib/python3.11/dist-packages (from torch>=2.0.0->accelerate) (2.21.5)\n",
            "Requirement already satisfied: nvidia-nvtx-cu12==12.4.127 in /usr/local/lib/python3.11/dist-packages (from torch>=2.0.0->accelerate) (12.4.127)\n",
            "Collecting nvidia-nvjitlink-cu12==12.4.127 (from torch>=2.0.0->accelerate)\n",
            "  Downloading nvidia_nvjitlink_cu12-12.4.127-py3-none-manylinux2014_x86_64.whl.metadata (1.5 kB)\n",
            "Requirement already satisfied: triton==3.2.0 in /usr/local/lib/python3.11/dist-packages (from torch>=2.0.0->accelerate) (3.2.0)\n",
            "Requirement already satisfied: sympy==1.13.1 in /usr/local/lib/python3.11/dist-packages (from torch>=2.0.0->accelerate) (1.13.1)\n",
            "Requirement already satisfied: mpmath<1.4,>=1.1.0 in /usr/local/lib/python3.11/dist-packages (from sympy==1.13.1->torch>=2.0.0->accelerate) (1.3.0)\n",
            "Requirement already satisfied: zipp>=3.20 in /usr/local/lib/python3.11/dist-packages (from importlib_metadata->diffusers) (3.23.0)\n",
            "Requirement already satisfied: charset-normalizer<4,>=2 in /usr/local/lib/python3.11/dist-packages (from requests->diffusers) (3.4.2)\n",
            "Requirement already satisfied: idna<4,>=2.5 in /usr/local/lib/python3.11/dist-packages (from requests->diffusers) (3.10)\n",
            "Requirement already satisfied: urllib3<3,>=1.21.1 in /usr/local/lib/python3.11/dist-packages (from requests->diffusers) (2.4.0)\n",
            "Requirement already satisfied: certifi>=2017.4.17 in /usr/local/lib/python3.11/dist-packages (from requests->diffusers) (2025.7.14)\n",
            "Requirement already satisfied: MarkupSafe>=2.0 in /usr/local/lib/python3.11/dist-packages (from jinja2->torch>=2.0.0->accelerate) (3.0.2)\n",
            "Downloading nvidia_cublas_cu12-12.4.5.8-py3-none-manylinux2014_x86_64.whl (363.4 MB)\n",
            "\u001b[2K   \u001b[90m━━━━━━━━━━━━━━━━━━━━━━━━━━━━━━━━━━━━━━━━\u001b[0m \u001b[32m363.4/363.4 MB\u001b[0m \u001b[31m3.8 MB/s\u001b[0m eta \u001b[36m0:00:00\u001b[0m\n",
            "\u001b[?25hDownloading nvidia_cuda_cupti_cu12-12.4.127-py3-none-manylinux2014_x86_64.whl (13.8 MB)\n",
            "\u001b[2K   \u001b[90m━━━━━━━━━━━━━━━━━━━━━━━━━━━━━━━━━━━━━━━━\u001b[0m \u001b[32m13.8/13.8 MB\u001b[0m \u001b[31m72.4 MB/s\u001b[0m eta \u001b[36m0:00:00\u001b[0m\n",
            "\u001b[?25hDownloading nvidia_cuda_nvrtc_cu12-12.4.127-py3-none-manylinux2014_x86_64.whl (24.6 MB)\n",
            "\u001b[2K   \u001b[90m━━━━━━━━━━━━━━━━━━━━━━━━━━━━━━━━━━━━━━━━\u001b[0m \u001b[32m24.6/24.6 MB\u001b[0m \u001b[31m50.9 MB/s\u001b[0m eta \u001b[36m0:00:00\u001b[0m\n",
            "\u001b[?25hDownloading nvidia_cuda_runtime_cu12-12.4.127-py3-none-manylinux2014_x86_64.whl (883 kB)\n",
            "\u001b[2K   \u001b[90m━━━━━━━━━━━━━━━━━━━━━━━━━━━━━━━━━━━━━━━━\u001b[0m \u001b[32m883.7/883.7 kB\u001b[0m \u001b[31m57.8 MB/s\u001b[0m eta \u001b[36m0:00:00\u001b[0m\n",
            "\u001b[?25hDownloading nvidia_cudnn_cu12-9.1.0.70-py3-none-manylinux2014_x86_64.whl (664.8 MB)\n",
            "\u001b[2K   \u001b[90m━━━━━━━━━━━━━━━━━━━━━━━━━━━━━━━━━━━━━━━━\u001b[0m \u001b[32m664.8/664.8 MB\u001b[0m \u001b[31m2.8 MB/s\u001b[0m eta \u001b[36m0:00:00\u001b[0m\n",
            "\u001b[?25hDownloading nvidia_cufft_cu12-11.2.1.3-py3-none-manylinux2014_x86_64.whl (211.5 MB)\n",
            "\u001b[2K   \u001b[90m━━━━━━━━━━━━━━━━━━━━━━━━━━━━━━━━━━━━━━━━\u001b[0m \u001b[32m211.5/211.5 MB\u001b[0m \u001b[31m5.1 MB/s\u001b[0m eta \u001b[36m0:00:00\u001b[0m\n",
            "\u001b[?25hDownloading nvidia_curand_cu12-10.3.5.147-py3-none-manylinux2014_x86_64.whl (56.3 MB)\n",
            "\u001b[2K   \u001b[90m━━━━━━━━━━━━━━━━━━━━━━━━━━━━━━━━━━━━━━━━\u001b[0m \u001b[32m56.3/56.3 MB\u001b[0m \u001b[31m12.7 MB/s\u001b[0m eta \u001b[36m0:00:00\u001b[0m\n",
            "\u001b[?25hDownloading nvidia_cusolver_cu12-11.6.1.9-py3-none-manylinux2014_x86_64.whl (127.9 MB)\n",
            "\u001b[2K   \u001b[90m━━━━━━━━━━━━━━━━━━━━━━━━━━━━━━━━━━━━━━━━\u001b[0m \u001b[32m127.9/127.9 MB\u001b[0m \u001b[31m7.5 MB/s\u001b[0m eta \u001b[36m0:00:00\u001b[0m\n",
            "\u001b[?25hDownloading nvidia_cusparse_cu12-12.3.1.170-py3-none-manylinux2014_x86_64.whl (207.5 MB)\n",
            "\u001b[2K   \u001b[90m━━━━━━━━━━━━━━━━━━━━━━━━━━━━━━━━━━━━━━━━\u001b[0m \u001b[32m207.5/207.5 MB\u001b[0m \u001b[31m5.4 MB/s\u001b[0m eta \u001b[36m0:00:00\u001b[0m\n",
            "\u001b[?25hDownloading nvidia_nvjitlink_cu12-12.4.127-py3-none-manylinux2014_x86_64.whl (21.1 MB)\n",
            "\u001b[2K   \u001b[90m━━━━━━━━━━━━━━━━━━━━━━━━━━━━━━━━━━━━━━━━\u001b[0m \u001b[32m21.1/21.1 MB\u001b[0m \u001b[31m106.4 MB/s\u001b[0m eta \u001b[36m0:00:00\u001b[0m\n",
            "\u001b[?25hInstalling collected packages: nvidia-nvjitlink-cu12, nvidia-curand-cu12, nvidia-cufft-cu12, nvidia-cuda-runtime-cu12, nvidia-cuda-nvrtc-cu12, nvidia-cuda-cupti-cu12, nvidia-cublas-cu12, nvidia-cusparse-cu12, nvidia-cudnn-cu12, nvidia-cusolver-cu12\n",
            "  Attempting uninstall: nvidia-nvjitlink-cu12\n",
            "    Found existing installation: nvidia-nvjitlink-cu12 12.5.82\n",
            "    Uninstalling nvidia-nvjitlink-cu12-12.5.82:\n",
            "      Successfully uninstalled nvidia-nvjitlink-cu12-12.5.82\n",
            "  Attempting uninstall: nvidia-curand-cu12\n",
            "    Found existing installation: nvidia-curand-cu12 10.3.6.82\n",
            "    Uninstalling nvidia-curand-cu12-10.3.6.82:\n",
            "      Successfully uninstalled nvidia-curand-cu12-10.3.6.82\n",
            "  Attempting uninstall: nvidia-cufft-cu12\n",
            "    Found existing installation: nvidia-cufft-cu12 11.2.3.61\n",
            "    Uninstalling nvidia-cufft-cu12-11.2.3.61:\n",
            "      Successfully uninstalled nvidia-cufft-cu12-11.2.3.61\n",
            "  Attempting uninstall: nvidia-cuda-runtime-cu12\n",
            "    Found existing installation: nvidia-cuda-runtime-cu12 12.5.82\n",
            "    Uninstalling nvidia-cuda-runtime-cu12-12.5.82:\n",
            "      Successfully uninstalled nvidia-cuda-runtime-cu12-12.5.82\n",
            "  Attempting uninstall: nvidia-cuda-nvrtc-cu12\n",
            "    Found existing installation: nvidia-cuda-nvrtc-cu12 12.5.82\n",
            "    Uninstalling nvidia-cuda-nvrtc-cu12-12.5.82:\n",
            "      Successfully uninstalled nvidia-cuda-nvrtc-cu12-12.5.82\n",
            "  Attempting uninstall: nvidia-cuda-cupti-cu12\n",
            "    Found existing installation: nvidia-cuda-cupti-cu12 12.5.82\n",
            "    Uninstalling nvidia-cuda-cupti-cu12-12.5.82:\n",
            "      Successfully uninstalled nvidia-cuda-cupti-cu12-12.5.82\n",
            "  Attempting uninstall: nvidia-cublas-cu12\n",
            "    Found existing installation: nvidia-cublas-cu12 12.5.3.2\n",
            "    Uninstalling nvidia-cublas-cu12-12.5.3.2:\n",
            "      Successfully uninstalled nvidia-cublas-cu12-12.5.3.2\n",
            "  Attempting uninstall: nvidia-cusparse-cu12\n",
            "    Found existing installation: nvidia-cusparse-cu12 12.5.1.3\n",
            "    Uninstalling nvidia-cusparse-cu12-12.5.1.3:\n",
            "      Successfully uninstalled nvidia-cusparse-cu12-12.5.1.3\n",
            "  Attempting uninstall: nvidia-cudnn-cu12\n",
            "    Found existing installation: nvidia-cudnn-cu12 9.3.0.75\n",
            "    Uninstalling nvidia-cudnn-cu12-9.3.0.75:\n",
            "      Successfully uninstalled nvidia-cudnn-cu12-9.3.0.75\n",
            "  Attempting uninstall: nvidia-cusolver-cu12\n",
            "    Found existing installation: nvidia-cusolver-cu12 11.6.3.83\n",
            "    Uninstalling nvidia-cusolver-cu12-11.6.3.83:\n",
            "      Successfully uninstalled nvidia-cusolver-cu12-11.6.3.83\n",
            "Successfully installed nvidia-cublas-cu12-12.4.5.8 nvidia-cuda-cupti-cu12-12.4.127 nvidia-cuda-nvrtc-cu12-12.4.127 nvidia-cuda-runtime-cu12-12.4.127 nvidia-cudnn-cu12-9.1.0.70 nvidia-cufft-cu12-11.2.1.3 nvidia-curand-cu12-10.3.5.147 nvidia-cusolver-cu12-11.6.1.9 nvidia-cusparse-cu12-12.3.1.170 nvidia-nvjitlink-cu12-12.4.127\n"
          ]
        }
      ],
      "source": [
        "!pip install diffusers transformers accelerate"
      ]
    },
    {
      "cell_type": "code",
      "execution_count": null,
      "metadata": {
        "colab": {
          "base_uri": "https://localhost:8080/"
        },
        "id": "97M2nuTLeoRa",
        "outputId": "1d658375-1bda-4be6-f052-3d352f973678"
      },
      "outputs": [
        {
          "name": "stdout",
          "output_type": "stream",
          "text": [
            "Mounted at /content/drive\n"
          ]
        }
      ],
      "source": [
        "from google.colab import drive\n",
        "drive.mount('/content/drive')"
      ]
    },
    {
      "cell_type": "code",
      "execution_count": null,
      "metadata": {
        "colab": {
          "base_uri": "https://localhost:8080/"
        },
        "id": "3Ui44HBIeqvH",
        "outputId": "279cf9c4-d6b0-47bc-97d6-371dc777aad1"
      },
      "outputs": [
        {
          "name": "stdout",
          "output_type": "stream",
          "text": [
            "/content/drive/MyDrive/Saudi-Heritage-GenAI\n"
          ]
        }
      ],
      "source": [
        "%cd /content/drive/MyDrive/Saudi-Heritage-GenAI"
      ]
    },
    {
      "cell_type": "code",
      "execution_count": null,
      "metadata": {
        "colab": {
          "base_uri": "https://localhost:8080/",
          "height": 749,
          "referenced_widgets": [
            "0c33e1e3b49741b593be45974fe48cef",
            "4e6ae17223cb4bc7b622730f885e8aa5",
            "539e3363104a4437b38d8884908fbc6b",
            "db7c312ba5674011aad190f8cc69a861",
            "90d7e159fa2943f9ac4d49ab5fe0d15e",
            "87499605e9db44169d9e7f9c927d7347",
            "2fddee2694964e648fb5deec77906ffa",
            "c6f242c19c0f4f64b416b5d7169ac740",
            "a0c4bbb58fbd44c6a06041527dccad2c",
            "7f537f55b67d4f20a985734d419dfe92",
            "1e6f1c0163a94223b3c8cbf242810c73",
            "4b60d466a3f64f50b7055b0d85b90a2d",
            "e4d484e3ec4843e6b72a1f5e5b3af86f",
            "3c94f5c740de4e72b84e71cf9c448869",
            "f998b5a9af2345f2b165cc3ad74c5619",
            "612e336f80014e42b7391d072c42ba58",
            "264131aacdb2487b844aefd0ae569aff",
            "d74744404876445c8194dc6f0405b83b",
            "83c55ddedcfa4f9eafb4cbaeee5d2687",
            "24ce79e551b74f0baeed5bf806ef3ebc",
            "3225a1945e9f46589ac2e8b60045a0da",
            "15944d439096459cbb4c438eadd504e2",
            "bc493b9550214d4fbbdea580a8df9738",
            "8a9906156e924478ac4832008bd0bf9a",
            "c51bb2f65c7742a287540371c28af371",
            "71f11da694264067bc51e9c6562d79c1",
            "0d7006006f554be3991d9f07b8634417",
            "b2e2f982ec0a4b3f9266e377c06b2a14",
            "fd0cc26aa3004c27ace72f7dbd30b82d",
            "ecd9a7f654f7461588d9fe6fe05ef9bc",
            "ffec5e2774514b93a311c9bde7ecc220",
            "b4f4e1ca87054e85bcf97fea8722f7da",
            "c594a63e163f40a0836a1bb68a1867f0",
            "c57a4043de2a45f294afe729e13cbd01",
            "1cc214abab394e2bae3b273e94688ee7",
            "e3744111602d4d2fa3536fdd1f8bb47c",
            "a604695b991d402caf15efaa4da7f2ca",
            "20ce9f301ba4414984046c82f5feb0c3",
            "2927fe11c0304cc3938b3b92aca9de5d",
            "4c1af43d052845a0b5b2f6e846060af9",
            "39083357bd644c5981a3633e42c5e550",
            "532ba48ddd754343897d516cb72c335a",
            "6f95d753579647c4955cafa8716f5c00",
            "0304d593cab04310966bab94ab9c3409",
            "e93ad6467fb1490f807d649404d5bbf1",
            "69ab34e229514ad6a71eb9a0d8a0b657",
            "4ba8e3f984f14b31ac30f625b4da124a",
            "1b0bffb44c2c42ec9b7ab1891251dc1b",
            "ae801e706b414ac08fc8a42cd7a3e742",
            "b8f2533bd05d409fbda9b25e09655f3c",
            "c252c91a6eb447bd9055fdc1e61dbaf2",
            "8234e3a154e944b1acd94219e06ea433",
            "38ac9ded413c4931a13776a16a1a1da5",
            "95b0da3f4bfd4f3f93e17c3808fa6d50",
            "66765f42a79a4dd889cdbb613e77b3a7",
            "d14b04b6387f4c62ac7f0464f2a6ecec",
            "fe0218b101b54b6d879945230fd822ae",
            "218d18da18fa48f2a9add269c972c22c",
            "b75c7bb26c9441cb8d6e7cde708945be",
            "6fb2ee82009345af87b4229b51264344",
            "474f0b4a44bb439fa9f8c518a6bf5fd4",
            "946940491415450891e0f2e43957a11f",
            "ea1dfe6046ab4c1d84c99bb3ebfbdc9d",
            "1d907f46add444e0ac5577081c4dda8c",
            "daa591f30a3b4aa49eca9b60a2f90c26",
            "6e2e12dfd8b94175822cb99028d5b4c8",
            "f116dbb98f8c4f6abecc16a913ae472f",
            "ca09c81de70f4831b0c6dc389f40a45b",
            "061f7c13830d497e99c19ef6f38edfd8",
            "eb7a77ea66f345e6955298d0cb1debe3",
            "50811d330cf34b169c5f0de6a1ce16aa",
            "a2859138f41f44f99d57c085cb858c7a",
            "b60168d25575487e94ae900310a047ca",
            "bff347f8f3f84e8fb556a9799e05d5f7",
            "561066d8e4f14477bc75e4f1b2fc5d2a",
            "83af3ffd5b0947cd9989952aed844ed4",
            "8241e50630a149beaf911093b2160ff9",
            "6c89502dc3f04b608a6e3706f154651c",
            "0c9b1607a83f4b9c9c03eb02c162d38b",
            "4897ae245ae9491492356be89a87425f",
            "6dac815b84354b3184bc46000044ea8a",
            "757c8e86b0a44e72878af4464d3b14e3",
            "ca237e56a97e4256a26774e82a3a0bf1",
            "20f43d7af79942369f87ee52fce4e74e",
            "542ab31133a64b098ff2d2e35ea1a542",
            "5a045b245284432e811029e99d109643",
            "2d8333598cea482eb2c046dc56657d0d",
            "8dd445589e8a490980dc22ab268a7582",
            "8ef517dc52f1480fb906d6435c454c99",
            "6ed572a82d674a678c1aa17069754dcb",
            "d9837d70740c4f5bb9cc27292ae6f66e",
            "23317d891d2e4d95be38052d6caad51d",
            "3b66d6cc63074c7bba81fcc13692981f",
            "2e5753c8ff8f46198624203a9ec0b5c3",
            "ddac822c113d4d5fbca49dae1dcd8d06",
            "0be0372884674fa4ad5896499729c4eb",
            "5c956e6f7cbc4422916a636b20c21943",
            "4f006fdd7dc44f8c90b8af7b78932d83",
            "57424f3c5df74fb2a4b810fddf0b81de",
            "755b5adb7de9463f9ca611bf0352cdc4",
            "89b18806856c47b7a253347d4f46ac63",
            "dc9ed919b3e140d59393ff9d4b5c09e7",
            "adbb85e3f4864eceb9340cbba78be1f0",
            "95e81cb1429a4f6c8855280001cc38b8",
            "8c2fb89d5b4c4084990e2a902ba202de",
            "af32141cf8f9453e801ed4b42c22c2f2",
            "d1fec2c5328544c0ad97f251c6f7bfa5",
            "d04dfe9f0abf42d6b90d9742f5f880e3",
            "118b08b56425419e99cc0bf30b0c4764",
            "37bee8c0dc044f9b83746db076e037d8",
            "9d750fcdb54a408997c33d5d0a6022cd",
            "2d9eb78005d64d85a9ff2c3dbaff44aa",
            "bc179d5ea1c44d8a9ac1c90c240b2723",
            "d9c2073ce1ec4dd789caf6f19db12d49",
            "78a0ffc675564eed97ae220d54c33630",
            "2714950732cc4828b3cc55cd344fd333",
            "d4e0d79e101d4b65bf015b8460de0722",
            "d9350ad1b99546d09d9b727b00a5577b",
            "1b41c40f4f394bbb888e75dd18b7b707",
            "6deb1d846aa8408ab7256c0af93dd7ef",
            "00d3f5b14bfa49e19c2314ba03f6f537",
            "41b014048d06491b81cc6bb48ecae550",
            "f7e139a2b9c34b759d5e15bcc6b92577",
            "457b29ec82ab4536b91b44b4cc237882",
            "b82a0a902b7743d2a871e74520e8e042",
            "af597f7f5277423c9772a6132bddc01c",
            "70f15c51391e4dd0933a731e3c8afee3",
            "d516ebd30e3144da9185458e42346e85",
            "385f17f38d98456cbc765cdf03da31bf",
            "5780c9a89da54b9f935e2e12c3dfa9cf",
            "fbe78b0c1938438ea6e048e415e2353c",
            "40ded51156af45ca98bd115d2defd22c",
            "4d599c2559bb4792b06dce4e7deaec5e",
            "8dd30eb3be114db3a741d2bcc87c9741",
            "9325bdac46004154a57404ad14fe482d",
            "25fe1b02a81b4b149714c05ccfea33ea",
            "3c609f1aa237422d9c3146ebff3a87bc",
            "8b24a2d336b64b4890293945a7012728",
            "c6bb208a653446f2b70f92931af7b656",
            "1c1231f089744f1bb0fd23088a273a9c",
            "6cc6c69f7d07494cb1efa979f19deaf2",
            "8725c3d35b114e48b3f85f18dcbeedc4",
            "68b2b4e2c8e543afa80fac584220b02e",
            "f3072300881b4179ab55b43962943e84",
            "6889d54afa9240fe962d81a30c14b470",
            "7ebe44110f2a4960b1820616ed798900",
            "186b4f53f851425db4d09b4e6f10b015",
            "0dec38d260444f44afd984b38aa2ddf7",
            "bc6463d8fe324daeb04b35ec1036d7f9",
            "bf98536e63e44a27868a3325ebb69f62",
            "63ce7998dee54710a9958a399925ec58",
            "03c0fc086e784f1aa19b378f113c452a",
            "293dff1e4da04db99085842a5beb1991",
            "dcdd27f7e3cf414189f7a8d341ff9222",
            "1570524046864b5799182fdf7781fd6e",
            "40aa8cb762d8487ea03a183da5d2efe2",
            "f5d749cd96e744558f2e42455e1ac1c8",
            "278531edecb14a50ae8a6bf3890ab03c",
            "3e3e42c3ac3b48358c00cd5abbc624c5",
            "f696c9c7c72d4936bfca0a1b1f509314",
            "6d6a2f8eaabb4a018fa7c8c5c2c20bbf",
            "2fc2b83607e14103849a13f1df28ed77",
            "7f667c4252184b759412f0ada11187e2",
            "110086a93bfa4320969498997380d081",
            "68e5b7e1bc6c4745b36a36c0d0c1873c",
            "0cd13e5dceec4057b895722959d144a0",
            "ebc28a7178b04837881c15829ddde4b5",
            "cf5139dbf518438f8ea9ff092bd7740f",
            "5bdfbdd840784a3899d98aa9e7086914",
            "9b91da915c8e44cc8782a124f3f8cd5d",
            "8356ba0569b4415b8462747f3e3ecd0f",
            "1813f9056853491294e711bcb9976fc8",
            "6dff63d0a62f44ac97a63b882916dfbb",
            "2c9a129427a54b0cb19186c5018ade11",
            "625e22b4842e4b29ba8fa932790bfe80",
            "e72ecb15d3984b49b21cc49d833ff94a",
            "aa758643d17c43bf9d647a7da58502f4",
            "83029e99179648ec9cc62f96a174cf64",
            "bf581099da5243fe9e34f3f9c8b52e3c",
            "07a45aed22114525b32b22fba9cbc2e9",
            "c5e5a80615a44aeca05eabee8f5293e4",
            "be91a1f9df1f4fb88a271c3ccf0b4a59",
            "3436ee47357e4867beabebad67266d96",
            "feacdff946e54db1907cf075ad901b46",
            "243e863e07314c378a75a2e01b9b9ab9",
            "aeb63c823e6d47bc9bb6b23632be465d",
            "177ca2d264b64bdeafb9e9bd5a27f9cb",
            "f0404d554dc842f49fe5054e1f0b6119",
            "8ccdf3a5534c4572b8855a1567eae6ba",
            "005cb61e98f44ea88e2fd865a09b9bf9",
            "c0fffbff9ead4049be1a884dcab25168",
            "1b793b17d35f452d8e838e4835b97a4d",
            "8af2725abec1407fb7a51a6ccecb631c",
            "d49187a24e084bd39de6430b1dd7b0ef",
            "226340fda8f148c6b52597d3465d6845",
            "8e4bc86ad6b444e48bf4e4a492cdf2a2",
            "ef4e882ed48d4b43beabdd25710a6a62",
            "d13d7a13e38e4f7183e895fe20baeb26",
            "7d49e5da49f345538c8767c307bdb258",
            "d2d6269c4f7548058969e63b564accef",
            "bad840afb3394612a01f20d5699f48ed",
            "4dbc8293451d4bcfb4766430b6da202b",
            "3c8739c1b0ef452897a72f1c8a6c372f",
            "38e03618853e49c6b0a058c78dea0b47",
            "c6b29c5bba7045bea77288ed646f251f",
            "4cd591289e164e398b7b32991d6c7306",
            "c3e7d8ae884b420a83c9789c56c3a410",
            "47c455c0a98b43e7af68951eb176a69a",
            "7458d1d384ce4aca8987546573ff6c6f"
          ]
        },
        "id": "RVqm806ZeY-U",
        "outputId": "47a7e74e-3b97-4eb4-e9ea-309ee1d36f79"
      },
      "outputs": [
        {
          "name": "stderr",
          "output_type": "stream",
          "text": [
            "/usr/local/lib/python3.11/dist-packages/huggingface_hub/utils/_auth.py:94: UserWarning: \n",
            "The secret `HF_TOKEN` does not exist in your Colab secrets.\n",
            "To authenticate with the Hugging Face Hub, create a token in your settings tab (https://huggingface.co/settings/tokens), set it as secret in your Google Colab and restart your session.\n",
            "You will be able to reuse this secret in all of your notebooks.\n",
            "Please note that authentication is recommended but still optional to access public models or datasets.\n",
            "  warnings.warn(\n"
          ]
        },
        {
          "data": {
            "application/vnd.jupyter.widget-view+json": {
              "model_id": "0c33e1e3b49741b593be45974fe48cef",
              "version_major": 2,
              "version_minor": 0
            },
            "text/plain": [
              "config.json:   0%|          | 0.00/631 [00:00<?, ?B/s]"
            ]
          },
          "metadata": {},
          "output_type": "display_data"
        },
        {
          "data": {
            "application/vnd.jupyter.widget-view+json": {
              "model_id": "4b60d466a3f64f50b7055b0d85b90a2d",
              "version_major": 2,
              "version_minor": 0
            },
            "text/plain": [
              "diffusion_pytorch_model.safetensors:   0%|          | 0.00/335M [00:00<?, ?B/s]"
            ]
          },
          "metadata": {},
          "output_type": "display_data"
        },
        {
          "data": {
            "application/vnd.jupyter.widget-view+json": {
              "model_id": "bc493b9550214d4fbbdea580a8df9738",
              "version_major": 2,
              "version_minor": 0
            },
            "text/plain": [
              "model_index.json:   0%|          | 0.00/609 [00:00<?, ?B/s]"
            ]
          },
          "metadata": {},
          "output_type": "display_data"
        },
        {
          "data": {
            "application/vnd.jupyter.widget-view+json": {
              "model_id": "c57a4043de2a45f294afe729e13cbd01",
              "version_major": 2,
              "version_minor": 0
            },
            "text/plain": [
              "Fetching 17 files:   0%|          | 0/17 [00:00<?, ?it/s]"
            ]
          },
          "metadata": {},
          "output_type": "display_data"
        },
        {
          "data": {
            "application/vnd.jupyter.widget-view+json": {
              "model_id": "e93ad6467fb1490f807d649404d5bbf1",
              "version_major": 2,
              "version_minor": 0
            },
            "text/plain": [
              "scheduler_config.json:   0%|          | 0.00/479 [00:00<?, ?B/s]"
            ]
          },
          "metadata": {},
          "output_type": "display_data"
        },
        {
          "data": {
            "application/vnd.jupyter.widget-view+json": {
              "model_id": "d14b04b6387f4c62ac7f0464f2a6ecec",
              "version_major": 2,
              "version_minor": 0
            },
            "text/plain": [
              "config.json:   0%|          | 0.00/565 [00:00<?, ?B/s]"
            ]
          },
          "metadata": {},
          "output_type": "display_data"
        },
        {
          "data": {
            "application/vnd.jupyter.widget-view+json": {
              "model_id": "f116dbb98f8c4f6abecc16a913ae472f",
              "version_major": 2,
              "version_minor": 0
            },
            "text/plain": [
              "special_tokens_map.json:   0%|          | 0.00/472 [00:00<?, ?B/s]"
            ]
          },
          "metadata": {},
          "output_type": "display_data"
        },
        {
          "data": {
            "application/vnd.jupyter.widget-view+json": {
              "model_id": "6c89502dc3f04b608a6e3706f154651c",
              "version_major": 2,
              "version_minor": 0
            },
            "text/plain": [
              "merges.txt: 0.00B [00:00, ?B/s]"
            ]
          },
          "metadata": {},
          "output_type": "display_data"
        },
        {
          "data": {
            "application/vnd.jupyter.widget-view+json": {
              "model_id": "8ef517dc52f1480fb906d6435c454c99",
              "version_major": 2,
              "version_minor": 0
            },
            "text/plain": [
              "tokenizer_config.json:   0%|          | 0.00/737 [00:00<?, ?B/s]"
            ]
          },
          "metadata": {},
          "output_type": "display_data"
        },
        {
          "data": {
            "application/vnd.jupyter.widget-view+json": {
              "model_id": "755b5adb7de9463f9ca611bf0352cdc4",
              "version_major": 2,
              "version_minor": 0
            },
            "text/plain": [
              "config.json:   0%|          | 0.00/575 [00:00<?, ?B/s]"
            ]
          },
          "metadata": {},
          "output_type": "display_data"
        },
        {
          "data": {
            "application/vnd.jupyter.widget-view+json": {
              "model_id": "9d750fcdb54a408997c33d5d0a6022cd",
              "version_major": 2,
              "version_minor": 0
            },
            "text/plain": [
              "text_encoder_2/model.fp16.safetensors:   0%|          | 0.00/1.39G [00:00<?, ?B/s]"
            ]
          },
          "metadata": {},
          "output_type": "display_data"
        },
        {
          "data": {
            "application/vnd.jupyter.widget-view+json": {
              "model_id": "41b014048d06491b81cc6bb48ecae550",
              "version_major": 2,
              "version_minor": 0
            },
            "text/plain": [
              "text_encoder/model.fp16.safetensors:   0%|          | 0.00/246M [00:00<?, ?B/s]"
            ]
          },
          "metadata": {},
          "output_type": "display_data"
        },
        {
          "data": {
            "application/vnd.jupyter.widget-view+json": {
              "model_id": "4d599c2559bb4792b06dce4e7deaec5e",
              "version_major": 2,
              "version_minor": 0
            },
            "text/plain": [
              "vocab.json: 0.00B [00:00, ?B/s]"
            ]
          },
          "metadata": {},
          "output_type": "display_data"
        },
        {
          "data": {
            "application/vnd.jupyter.widget-view+json": {
              "model_id": "f3072300881b4179ab55b43962943e84",
              "version_major": 2,
              "version_minor": 0
            },
            "text/plain": [
              "special_tokens_map.json:   0%|          | 0.00/460 [00:00<?, ?B/s]"
            ]
          },
          "metadata": {},
          "output_type": "display_data"
        },
        {
          "data": {
            "application/vnd.jupyter.widget-view+json": {
              "model_id": "1570524046864b5799182fdf7781fd6e",
              "version_major": 2,
              "version_minor": 0
            },
            "text/plain": [
              "tokenizer_config.json:   0%|          | 0.00/725 [00:00<?, ?B/s]"
            ]
          },
          "metadata": {},
          "output_type": "display_data"
        },
        {
          "data": {
            "application/vnd.jupyter.widget-view+json": {
              "model_id": "0cd13e5dceec4057b895722959d144a0",
              "version_major": 2,
              "version_minor": 0
            },
            "text/plain": [
              "config.json: 0.00B [00:00, ?B/s]"
            ]
          },
          "metadata": {},
          "output_type": "display_data"
        },
        {
          "data": {
            "application/vnd.jupyter.widget-view+json": {
              "model_id": "aa758643d17c43bf9d647a7da58502f4",
              "version_major": 2,
              "version_minor": 0
            },
            "text/plain": [
              "unet/diffusion_pytorch_model.fp16.safete(…):   0%|          | 0.00/5.14G [00:00<?, ?B/s]"
            ]
          },
          "metadata": {},
          "output_type": "display_data"
        },
        {
          "data": {
            "application/vnd.jupyter.widget-view+json": {
              "model_id": "f0404d554dc842f49fe5054e1f0b6119",
              "version_major": 2,
              "version_minor": 0
            },
            "text/plain": [
              "vae_1_0/diffusion_pytorch_model.fp16.saf(…):   0%|          | 0.00/167M [00:00<?, ?B/s]"
            ]
          },
          "metadata": {},
          "output_type": "display_data"
        },
        {
          "data": {
            "application/vnd.jupyter.widget-view+json": {
              "model_id": "7d49e5da49f345538c8767c307bdb258",
              "version_major": 2,
              "version_minor": 0
            },
            "text/plain": [
              "Loading pipeline components...:   0%|          | 0/7 [00:00<?, ?it/s]"
            ]
          },
          "metadata": {},
          "output_type": "display_data"
        }
      ],
      "source": [
        "import torch\n",
        "from diffusers import DiffusionPipeline, AutoencoderKL\n",
        "\n",
        "vae = AutoencoderKL.from_pretrained(\"madebyollin/sdxl-vae-fp16-fix\", torch_dtype=torch.float16)\n",
        "pipe = DiffusionPipeline.from_pretrained(\n",
        "    \"stabilityai/stable-diffusion-xl-base-1.0\",\n",
        "    vae=vae,\n",
        "    torch_dtype=torch.float16,\n",
        "    variant=\"fp16\",\n",
        "    use_safetensors=True,\n",
        ")"
      ]
    },
    {
      "cell_type": "code",
      "execution_count": null,
      "metadata": {
        "id": "CcFhtpw8Rzdk"
      },
      "outputs": [],
      "source": [
        "repo_id =  \"/content/drive/MyDrive/Saudi-Heritage-GenAI/Saudi-Heritage-Lora .safetensors\"\n",
        "pipe.load_lora_weights(repo_id)"
      ]
    },
    {
      "cell_type": "code",
      "execution_count": null,
      "metadata": {
        "colab": {
          "base_uri": "https://localhost:8080/"
        },
        "id": "wjRjxaeLfLD2",
        "outputId": "ff1587b3-f386-464a-fef5-252828515f76"
      },
      "outputs": [
        {
          "data": {
            "text/plain": [
              "StableDiffusionXLPipeline {\n",
              "  \"_class_name\": \"StableDiffusionXLPipeline\",\n",
              "  \"_diffusers_version\": \"0.34.0\",\n",
              "  \"_name_or_path\": \"stabilityai/stable-diffusion-xl-base-1.0\",\n",
              "  \"feature_extractor\": [\n",
              "    null,\n",
              "    null\n",
              "  ],\n",
              "  \"force_zeros_for_empty_prompt\": true,\n",
              "  \"image_encoder\": [\n",
              "    null,\n",
              "    null\n",
              "  ],\n",
              "  \"scheduler\": [\n",
              "    \"diffusers\",\n",
              "    \"EulerDiscreteScheduler\"\n",
              "  ],\n",
              "  \"text_encoder\": [\n",
              "    \"transformers\",\n",
              "    \"CLIPTextModel\"\n",
              "  ],\n",
              "  \"text_encoder_2\": [\n",
              "    \"transformers\",\n",
              "    \"CLIPTextModelWithProjection\"\n",
              "  ],\n",
              "  \"tokenizer\": [\n",
              "    \"transformers\",\n",
              "    \"CLIPTokenizer\"\n",
              "  ],\n",
              "  \"tokenizer_2\": [\n",
              "    \"transformers\",\n",
              "    \"CLIPTokenizer\"\n",
              "  ],\n",
              "  \"unet\": [\n",
              "    \"diffusers\",\n",
              "    \"UNet2DConditionModel\"\n",
              "  ],\n",
              "  \"vae\": [\n",
              "    \"diffusers\",\n",
              "    \"AutoencoderKL\"\n",
              "  ]\n",
              "}"
            ]
          },
          "execution_count": 7,
          "metadata": {},
          "output_type": "execute_result"
        }
      ],
      "source": [
        "pipe.to(\"cuda\")"
      ]
    },
    {
      "cell_type": "code",
      "execution_count": null,
      "metadata": {
        "colab": {
          "base_uri": "https://localhost:8080/",
          "height": 1000,
          "referenced_widgets": [
            "aae6f28767694537a4eed4ba1e39c13f",
            "171ab993a5f4466d9c5efe7c671aa232",
            "559886fe1c314c5399fdc3a9f5d78755",
            "ed98324910304a09af5ea84809a3671e",
            "b878c9a53b444c2da304931309431ed2",
            "397cee97b5ef4ae0be6d5829173e4861",
            "df396a25cdd0412587877df954e65cb4",
            "031e2d4b2a44488884bdff1a04703e96",
            "2eb22551e4204e148740ed4a4aecffb7",
            "a5e9031aeae54de58e96f419f9de56e1",
            "a1e3ee0d550e49d39f0bac9deaf89563",
            "6b90ef4b47d5436bab5586f86de61c95",
            "2778d2027d9442b49b6a4b7eb5386f27",
            "de013cf68173465fa01b5220865ba3f0",
            "61e2747fadf2492cad5cfe63767cd694",
            "4cde1d841ba44f639a36d43532fccf8c",
            "6a38155b8308406eb153403063be819a",
            "1aa8d9393f664502befd38ecee036dfd",
            "3f5d98c463e04fdea00ca75f147a12c5",
            "923f2090ee6e48769cd912c55a0772a7",
            "e61777f80b014659b3eb6d5eb424d9b8",
            "efe47bb313874ab39a04cdd106f52161",
            "fb39f41896054345baf881e197690920",
            "ab51859f9b5b404aa3ec7e7b5a24faec",
            "cbc8e7337b3b4a00878f90467574a90a",
            "40d52ec4d07243ef872b94c1ba2731d7",
            "d31ed086aa494e36b5b474cf5ae37230",
            "7788de2be1544dcabefda8f93ed13421",
            "12d7bf25419d4e75a98e4f1fcbbdfd5a",
            "b8a7ee64326d40c3a0b726dedbf1b241",
            "1eea2aa69cc046788fd61fe44a6d8b75",
            "4cb324eeecee45889014cd99c96be80e",
            "857d495355034275aa3b2236232c6e5e",
            "71b59e481fdf41cda8d9e40ba41cbb3b",
            "8fe76ed3deab4703bc5ce77156d1e90d",
            "f135416090804cd2b49391eae6d6d63e",
            "ff2f39f417a4492c8d812444d4175fd3",
            "23214d20ed6043c7bd3011f8c4fc75d0",
            "72e8fd357c5f4075870a6a6d68d3d848",
            "0422cee42f4c48c18eead7ba98bbb498",
            "1083503669ec400f9f96810c89060d88",
            "8c15a54a54e24e78b72bc755e1ee5f65",
            "7f774d5b914e42bb91a2c9f7faf7a4e4",
            "32c50122c3ee48bab6b5d0fb2f298e99",
            "c3734087b57340ffa951233fccc513fd",
            "12771a6e915643ce8bf2741e7024124a",
            "24e9ce7bd3284aafb20ce7332bcad7f4",
            "0a038e395ae04a5c9134edb8098951cf",
            "0007cdf939884692bed069f434592d3d",
            "4c69187db4714291bcbfe1591f9d0f88",
            "7ab61ab64eb840d7a8547aec209617ed",
            "9a7f458015154afc8cf73ff52b3ad6b8",
            "6590e43c7ef0489b83ecca07de8a1892",
            "0fea1affc8c44c0198bdb3621fa077af",
            "73466b6c504148309ce87e4793d92a41",
            "7f2ff57f355f4327b570d0ee99b315a5",
            "a28e8be7323743ae973239df8f9b4d0b",
            "431c4149db5e4e18ae436dffb5a89bb0",
            "c339a9ea48f14d738106cf722c72edb4",
            "a7c289bc4c1e4098a94ab2cf2c2ff42b",
            "ad2297f8d6524727bade122e51fd917a",
            "a458a3d8e7fa4b308bcedcb4ae4cb247",
            "1e8f5f176bd648eab28b55c1b31d147a",
            "7094eb784de448a489ddf2dd0c10e973",
            "d1e98e1a04884285b9db2d11c5e5e323",
            "dcbc7c8e5c1c4448ba291f40f7e8ea3e",
            "aec2c42c19ea4efea67ca875bbf8fb70",
            "0c58d76e66cf4239adcab0d136d5d32a",
            "ff2fc65d2da34931a9bd84ed097ec18b",
            "6a2f72d816d941048745962e1a1fc9d5",
            "5f09a8cb2e714f35833ca1d2c4b2572d",
            "4ba14489afd5499c8ec000bf1e7cbee6",
            "a568b3db5c0249eab3d4eee120a0226f",
            "9ada4fba1d114c498391a215f58b1e2f",
            "b16272d34b5243f68d65e7234a1935ef",
            "0a604986bf0b4f4dae56397b4b6bae99",
            "817e24ed41614c2d93c2b8e6f536cf70",
            "2c57083649214dd6bfb56db21c616248",
            "2d996392ac104b83b1d4d2a0617481bb",
            "ec38b4e06cff45dd9ff405fa2b823f83",
            "81b409c1088944939310ca25e6020ea3",
            "224cb7a4ee5c42018e30b7fd99f0bb60",
            "5c85c270815940348d0a19a7841a5076",
            "3d3f57a0c2f745ba9e8b6dbc9b7eb71f",
            "11b52915bfe443a7bc344d639492f39d",
            "4693e096b184446da4e53fbae7a86d27",
            "5adbc80e65d440b89086a63f31e5c1b9",
            "aee43b6cd31941c19160bee4b1158b58",
            "ea14d037677b4be8ad76a53b9663225d",
            "d49102b0f89d4595b406e2e70e1626c0",
            "5be671dfd4a3473889214f2c32158bc0",
            "87996c522f7843029121f79d84df0524",
            "4e9d18d1d90944939a2e1c23c3d99d02",
            "a5419a3174b440399643310988f57d7c",
            "e6e10c182f4e4f6fb39bc51271bed88f",
            "b217a2ede66f46a7a6a840637c9b5bc8",
            "08054d822e864d8cba10e4ddf4499811",
            "01c5ca6f281f4a0a957945272ba27b6f",
            "1bb7181a3a584f258573632ee6cc710c",
            "3d5ac6b557b04b1da6c8f83aa15b2530",
            "e16f5b8cd4934915be9ae55dd1015f41",
            "bd1eb940a57c4f0fbec6c96587d41728",
            "07efdc7bace74e49ade30d429f59604b",
            "5c1c945d7d7640ddaad63ceb8a68a1af",
            "ba415cf95f6243339a737733cc4b6030",
            "6369101fe5934afc90e2b3b4e621aabc",
            "06adba4962dd4d2292471f1f28911a61",
            "700b7425def245c9861400f000ecb793",
            "4c8c92d5232a48738c312755aaf7fb8a",
            "b27709163fba4980a450a593424cf441",
            "34ad1d0fa1f84b3f9b0a9916f1ad83d4",
            "c8362ec9a9a44c4fab7e0adb572900fb",
            "f34e139875e64108b778cab26c863684",
            "64afe85521e7494c881902d580473752",
            "18309d148c794d6eb5a485a80f7a17c0",
            "bd36ed2870534164b78d3711f804daaa",
            "36b372e615ca4dc29bddd776e53ddcfb",
            "e93120edb8f446d198d743de578fa47f",
            "a6808eba0ce649908d45e5d3f39972c6",
            "88acb992c42a459a8f5b86fe77678aee",
            "c26e2c68055449239c56cdd07b514a75",
            "bf9ba59653a240ac87616162c588f7e4",
            "4b92cc928d0c46ee8a95339d609f498b",
            "f98ead5cf9e3473bbb881e11d5b24a66",
            "255bc3c1ca8b493ab4dc9c50a158de1e",
            "d9f42096875040beb602b93f4c2d169b",
            "18d74d36bf624de290b4456c44e48d6a",
            "0dee7d24c28f4b2daf1cdc182cefb0b5",
            "79af3272373e49ea9e2e8bcc9b93a85b",
            "2e6c6a768ded41209d884e52712ddb58",
            "5093c06fe4f84703b8602683a0f166a6",
            "62752b8a028646a1a2e7e313f9f3885e",
            "320abf7c3eda47238e21ae779b7e6202",
            "efe5546cd0a74329ac4084f5d1bcf0ec",
            "ecfdf671a7be49378f663318e691be1f",
            "bff9fb79c0164ff4921bf71c65ca2e6e",
            "7bb304dca6284187a031ad0c13cc10ed",
            "31a5e2c6ecbd4e6c8e69d77466d4ad8e",
            "6e73e7e20a0148ac9c64161df2cb736f",
            "8a24ba220d4c4018882f5939d3336e07",
            "ee79af09f8e9456c90c6ce351494ae6b",
            "1b6c5ab01412478d8e27e4ce827ef403",
            "f26401618504404f845fc517c852d01a",
            "1c5e5baae0bf423bac305133490b711d",
            "868ee18b6b1547a18c2569fb0c681932",
            "a071387163d64791b507844f13644a9b",
            "d0e8a9efc6db4c2fa6ce3da72a04a789",
            "3297bfaaa0ec4f75a9ea05ae37961f49",
            "7674c3abfd6243bd99c60f23c5fdf6a3",
            "e1974d68509a45b4a45ce31bf1be4acd",
            "9e99ff6d25734736b29b1e28911a063a",
            "1cc17f5c45b143fc83d0211852bdac30",
            "a24c554f4d2c4e00bf0198d97d8a0dee",
            "488234ccdbd24fc49b5412bc4be96eda",
            "43c4e3f569a64fb3a207c924c297f16f",
            "5f38b4d5b5b64e6f8aee04c078889737",
            "ffcda5192e784eed815d1dd5b2646f1f",
            "ed94afa2b8724dc995ad8a942c22b1a9",
            "44da740a37734e62828619cf85cd1293",
            "1caaaf5fe92149789c1c4eb3e5f154d2",
            "b4b228f29e9247b7b9f6f28cd479ac68",
            "42d786cbf0a342cfad10454d1b9f35bb",
            "6af393cb1fb640d3af3e3e45b2597084",
            "4485558186674ce3aac1142f625b80b0",
            "af7b536bbd074cfda0b147aac50963b1",
            "cb2e34f537b7494280287c295be0fc00",
            "86ff8f410fb64f0eb68e9743531a5a30",
            "5cdc49fef15b4fd3be4ad09592a986b8",
            "fe477093138048a38decb6efbb24aef4",
            "50feacc2df0a4dd78b01771d0c47a861",
            "4b50dcd8658646788ea897b5629407a5",
            "00e2c81d0eda47149e39ea481737bab3",
            "e9d8d7002d7e4ffd8e82879cd30f7d08",
            "ea0a4d52e07940b98b4301ce4592ffef",
            "d69603de0b1d472b9feb23541c26c4ed",
            "96c876fd7a474597a8a31d8b78964da4",
            "f9a96e1fd9994ea4a68a10dfbda3fa6e",
            "a6ac83c0d4484e5f9339d49ab1733156",
            "34d5caea713a42ac9cab0b13d582be89",
            "06e8f52f10be4c698d2b976eacfe4b3d",
            "4c247c6a2bf24a6b8b584e059b4dc289",
            "fe6aaad76be0434c9b90b079654e941b",
            "835d50fb7cad46ed8527baf54814f95d",
            "77b34777fa1045ff9dce7edcaf43f0bb",
            "f21a271d612548749af57d6ca1f95c86",
            "a78895d6d6044d9a89c7a56a368ad907",
            "0fd87a986f584e019403ecb2e99ee2d3",
            "62bbdccdd3dc4d95a88b32acfc3a747f",
            "927c135dc0ad48c4a7a9aa0e09977fac",
            "94185613739449f7a4bb0e77f7ae0f63",
            "84097129ec3346c3b743c49dc76d3715",
            "73432ab867f34e258ede3890551a74cd",
            "7d882cfedc114775969cc3b2a7338814",
            "e0bb68bc36184630974d962567514680",
            "e50fede91f6841a5b4e87731f0efb987",
            "e6a17ede78ca4a31addaa492cf7fda1d",
            "8203fdb90ef040fa9433eb9993b2cfbc",
            "4719e81209204bb397bacb4eff0d5f03",
            "ce402a5c41674974abc2a8913a49d653",
            "e9b6487ee8914b97831eee8d3e618d2f",
            "0ef1ec17dfd94f0e8fae2c0c7a6aae7e",
            "df6338d14a3743cb92c42b9bd2703c8d",
            "21b87878071540509afbb6533ff1a040",
            "de266edbc25541358e8cd08a3a3df070",
            "beec696128994fb795240dc3c34b6660",
            "d2b25c42232f4127b91bed49508b0fa2",
            "14cdd02534d74f9fa2861f0966417636",
            "9eaa33857b234e839b619d7f3d1cd4a1",
            "ad8d2231fad8417982e953de5bda71ec",
            "a26efd093a31403fa91b0a643f426489",
            "cc696c0eb20f4df899cc4e24233deea7",
            "5fac53ec33ad41e9986ae835ac340576",
            "125cc50edbbf4a29b5e79de911e5ea95",
            "71f942ed0e4b47ac89401f0628073cf6",
            "09789744f67f4cb981e2f67d13a47eb3",
            "dc6c255cbc2c44b8b374bfc8bf3e0751",
            "c9aa59112916427f985367e50bb7fd72",
            "aebb6198ad4346829b19da5e12fefb3c",
            "04cc50e8e86c409ba4004d6787661927",
            "68c2a3cb04994ac39453796d1c7c5eb9",
            "4dd4ec80c1324ecca53c9c56c1eff0f2",
            "18772e0990904056b247b218cefdf253",
            "cfda9f7405334124baf4000f12216dcc",
            "ca4cca8afcb34c6fb9dd0b528948159d",
            "835a090411684026a7dc90d003e17c65",
            "eaf4d9215c1343658cabacb29651a513",
            "dae91244ad4c4f6fa45fcaad9a6e80d6",
            "6b9d5a3ef74f40af9dd58ca11bdd90de",
            "b56c5b6c330e4fcb8f83866207333e05",
            "4daa2c3909574c20bd2e6011b69e5da6",
            "666749226af74dc6b9198c0452a831bf",
            "3058020e4d2343c1b2d76af5b35e782e",
            "86a2f91657bb4461a8bafce7f1788ec9",
            "fda1cca8e196495d9e16c51d23788b75",
            "77b47f73973840daa80624b36f0167c3",
            "19dc878086c545cc8407cfdbb3a61abe",
            "bde84ae3840346998e4b1769811bb802",
            "1cf065e7a5674ba5a7f62d4920620686",
            "c332db55edfa47fba4cf5331c2e283e1",
            "d062f603c2c243f581a6b36599b89096",
            "5c7c4480915143e7b3fd56bda01e448e",
            "cf7b6582398f40ccbca19485acbd6389",
            "32750bf131734c4e8af977cbbf5e1ab9",
            "fcba0358457047db855cf51daf27bdbb",
            "23d5bc1570d644059ac9098d74c2b0a6",
            "3cfca67336f444c1a8fb768428156ee0",
            "34208ed98cb54f0491b8589f2596bf42",
            "f460ec730e3d44a897dfd599c52ae9bd",
            "fbeb62fc11654663874c8aad9aab6938",
            "041d3c2fa3234ceda42181941f1c2234",
            "aeefe03182204e17a89f6a3a3afdf0de",
            "75208b6a93c44dad9dd14366a2ab137c",
            "70f31ba1b05647e9a20d9c7b0d730059",
            "d0b11bdeded34e4b9bcb3daf16275019",
            "a3aaa11a7b4b4f97824f620b42e424cf",
            "0c38bc5732ca42709bf92588e36e3337",
            "cefd515fba754cbaa287be149254bcd4",
            "6d567fb88a4f4bc08df4e13f57e3a0df",
            "734d3b9d40dd4f9492bfe71fcfb8e734",
            "d965236ee7b94079aa2b22c29b15999c",
            "1de4354e170d49b3ba7a917e12cb7e23",
            "51aad7beb239476da765dd1afce68417",
            "2b71bb02710b4f2abfdebdc6cadf5030",
            "69a3c5e3897248d8a045fe929539d0f5",
            "76ea3818a3a84ec19a1e6a6b279e4a6e",
            "ce365c0fe6bd442390e058ff33465bba",
            "f8f05f962d444cab85af6fb9beb62946",
            "85c9841333f04df6a8a07b733f359403",
            "c98b3e695cca4cfb84af5b8c5e4a500f",
            "1adae6ebf2114fc7b2a50ab83207bd2a",
            "ca107f9868fc4a8a84ce094af4ff67e0",
            "bb569cd494c44cc895482f39502121d8",
            "63406af886bd488f84f03c9735639e68",
            "2d9b6829db754f768ab53738ae439fcc",
            "e8f3bf66e01c4f67a903d2c470b10c32",
            "62e8f926300044cd8632c79caaffc589",
            "08020df91c0c4d7fa0a284835db48c63",
            "a246506b664c4d3a9a24c18b8513e1fa",
            "eac50e06a125467fb6720906f2592b48",
            "9cc218be2aac4a4bb948077f975c1521",
            "4d55905cf398440b8931a9c90667244b",
            "0156aeac65f2484b85bafe2c9dad9129",
            "66931bdfd6a1471c881d8e6de2278eff",
            "5f05e5bfccfb4da996097bc2f32285e0",
            "3d858f5ad3f34824bb8b0892d9df773f",
            "e4412f11ff0c4275bafefc3a4249cf0a",
            "b31107ec2da148ec9a9ba2b4d2d42087",
            "6769d5493e1e4c04b694fbd119aa4e39",
            "f07a7effccdd469c8ffcad77cb7f92cf",
            "62c361a1baac42efac11aeecaa4ca15c",
            "16d080bcd9a042b5a55e6447826fa7f3",
            "6c64e9c1f60b4ecc9718b411575050a0",
            "7048a7490c814b8485c430d0317ff86f",
            "89ec80ce96864efa907faab64e1ecf05",
            "865768dd5cb54e7796d7bfb2bf4a0da5",
            "7a48e76f676741dbaa7c75b6b96dc352",
            "f79fcc80843f4e87b35c77d636868525",
            "f8c961ae116f4ac0b2f6ec7055a78e75",
            "7a5a55ad9b324cb2a0d8a6910603cfa0",
            "f973844d06fd43049fd7bdc84a99d3ff",
            "2938ce1578664f93b381ca76c0886584",
            "7caefe2f03a24b41aac34948b63b19c7",
            "51439c1ce02b4bddb65e585d00c57d57",
            "b20d78e60b114ceca3abfd22a04f49dc",
            "a842058713554386912ddda02dd0db1f",
            "4787c6dbf09f455aaa99e18954f80a6d",
            "7f56eddad5824897a4f60c0a169e1bb1",
            "98720e64fe534a17ba997b4d29b5474c",
            "978a510c3a8340118293210f61da2921",
            "44481c3c204c42ceb22e9f20896671b2",
            "f5250e86477648049758fd151e718b6b",
            "dafa0bba2f2c4c4183197f48e3b59407",
            "e3e5c46cdc1e47f1bbe187c6f4c79326",
            "38edbf94bae04e98bff178ba84402948",
            "6aeee1795fe64e5ba74ae0053d419c8d",
            "fd3e2baae5e1445ca045ac33b0b068e1",
            "55f557f7689f445d9444eb05d6af952f",
            "7c077f874d4c4b6bb5cfb0c022668be3",
            "e867338803cc442baeecb1fc5363db47",
            "4a77fb0510204076868504ae81317677",
            "4701cf4e4b0d4de9ad5e93b5bbdbb0d4",
            "f02564fdb0ad4b00bd046f4de14c39b2",
            "c649118cec734aa8bf78ac34d1a27ff4",
            "da9c29d8d2a64084a2a777d9ec33c520",
            "d52b23434fd44b88be17f16618dbe59f",
            "2b00961f2dfe4c0086c874821516aaa3",
            "ff66a05010e74b53bd49b59df6ae9eb7",
            "7dd2e5158fd94e249191826a1c0e142b",
            "a37fdba6621349b58829d3e61fdd07ab",
            "4ecebc5c881c401ebc10be267cc5e657",
            "3ca833672e4b4302bab3635ba922c00d",
            "0c5ec5d80959453e83f7afd89f49c037",
            "57f36586e6ad40108aa3f81869f23378",
            "4209693c78fa4c4ba716eec9e3b7f4c8",
            "75368874a426480ab4af25fcb314f216",
            "63398500aeb740a7acf5dc8df8d714de",
            "f65a63e93a8d47a1a867efb5f85e46dc",
            "187ec54186fc4c2c8f8cb3e22947588d",
            "7042bc1c0b7544bd90b8cedf321ff686",
            "6fb2e2f5ba804d36a67ed4c292fd1fef",
            "a778ab198e1a4f8994fffa78182b7d7a",
            "ee70c1d2474941b6b1be1fbf6c43f2f0",
            "430ec81dfe194067803bb77a60efd342",
            "a9f6d23978fa46e6885634f8eb0c4a11",
            "0e44664b77a24cc8b75ded5ea5aeeb07",
            "113714f31f4d4b63963828a5197a6245",
            "0c4d70c30ed843e6947b375271bc64be",
            "6a5ca7fbcd0b42338c9e55dbb52d635d",
            "8a4e701a1aad437ba76b634696c98c60",
            "08cce78b02a449e1bed8f544c9b0d044",
            "79cde0caea57418d881c3591aed6d5fb",
            "9d75976950c7418f881cd49a4c40248b",
            "1ef3127cbf3b463ca57641bf873bbbba",
            "a034975688384121b61c02fc3089c0bb",
            "dbfd1da00f314fac88fdd6a2f641fac8",
            "8e7b69bea8ac408fbcf2ade9290643fd",
            "6092780b04244f24ba0c48c92ca7bd4d",
            "8b16bc3dee4f4daa9f794fdfd6c167ae",
            "5bdbd4f499434ca8a7367f879dfc3598",
            "5e0b498ba6aa4587ac75f2ed4045be66",
            "a7f8bcf62675422087715d72b3578326",
            "b56711d860724740839014946ccae58d",
            "561568231990447080a8f65a5df66356",
            "495f42f355974675afcb433101267d52",
            "4f6baf4fb99342cb90585493cf553983",
            "7ce6bab02c164801ba2a790585cf5cea",
            "2f6bd2c248fc4c72822b2e994b26854b",
            "3ce450318ebf47149f2d6a7b2aaf55b5",
            "3929b023614743a18f48b78679b5d31d",
            "621711b9af804731807842093fb30c1c",
            "e1ae6ea12b3c46d0b9193e4c52de7b2a",
            "dbc26163dae74fd28209265666e64d4e",
            "1096bb5439f54413997902931522ce04",
            "0f8ecbfe57a343c580b440f8ee4fb7e8",
            "d0781e82ff894ed49380439f8e2e539a",
            "9810685eab134b25923072b31345ed11",
            "ef7da9f47e174a4d8e1140be8a1d8e67",
            "4bd5acc7334a4657a5cf7ce5ef38d257",
            "6e6c6af635394932a4e3d944a3c32243",
            "f6a492b2c51842a281f7625289db757c",
            "9d8ed55870e8431db8607b386ff7837e",
            "ac54003866a4434d8d62ba701ad2a63a",
            "1323328018ea45f181ade10ec6a5844d",
            "123e5342dd114cf6ae8fab77252a83d9",
            "9988b8ba4c3a45ccb3f7a714760ff873",
            "35ae016894a04b4982bb3999889258fd",
            "3d2c7a4d74a44f598a98799de0267692",
            "b9ef5b7949bf462692ce0838163665ff",
            "c7c5d860c5a4456b96d1febcbb8adb6b",
            "b74a72594d844f89b589696064093661",
            "7d4eb94e72724eb9a9c8cb95e229aba3",
            "eb68b827ae8f41e59e7bc996a0875c7d",
            "49ab9fb9865d42f1acbd9b4d8a5e0349",
            "7a4c143ee3dc40d6bdab560b50e7304c",
            "143d28d4b3444135af638fd9458d92bd",
            "f40523734c934597ae8cb40890b35ab2",
            "ce2ee778a72e4cfabff8ca89a0360b0a",
            "54c83ebdb82c4ff5b895e23a06bbb7a4",
            "54b9406e6a8348cd8d3fb803349334bb",
            "a837fa85601849dc83b72ac8b93d6cd5",
            "3c9f63ea767a471e90daa4a59a0b2aa7",
            "d4ffeddbf9354445b6f4bf859e47426b",
            "7cb832e6647843118a21ef76eb2ca8fa",
            "2569672ad34f4670b176726a38f06768",
            "d0e1d46aaad64b05b9a1b6c719b661f7",
            "662de339e1ba4bc9891141822ff2ee1b",
            "53811bc46025481f9bb16f54ec2a57a8",
            "c142734fdf7e464e83f71c6f59e8d931",
            "22be236360034ae1b3f0330d4669cddf",
            "df8f683464c14c4cac5e0e8250d47e33",
            "040a45ffeca64bafa12a61a848c3c7b3",
            "4c2c0fcbd587471a93fb4f2f24d32a81",
            "26deab1da98a444f9994914fc9acc44f",
            "809e7ca61cc64b03a653e2666f2dd6e9",
            "b3161249f8eb41ed978bdd26029770c5",
            "c3d4eb81253f47f3b723c098e3421c97",
            "69cade8d6279486ab6a9b5d79777ff7e",
            "a32b4a308fda40de8d8e25ea8cc21bce",
            "df972bbb3c9d49efb013cbee579d0424",
            "f61e17baf1574f9b868763c72690359b",
            "ac8751f7d4104b599d4039da8706f5e5",
            "734c5b666d544577b36cb3cefd1f6af0",
            "470361d743704e4ab6b5948bc97b979b",
            "a05867a5a39043ec83772e062fabc37b",
            "97d31d8d93fd408481564713973a5048",
            "cc20d41233ea4006a3ab6c7da2190174",
            "d13a5fa66a0c4b2bb9ccf8fa359e67ae",
            "e5c29061a9614af8892b1e6e6b216ee5",
            "df20f70f8f84419fb5067d375f424ec1",
            "d293682c90b9478597f779ac6cb14d3f",
            "f6ac4df0ffb34fadb9cb6eb5c8e0772f",
            "b044898ad92f4601b030c935bef51af2",
            "fa1e55e21a4e4128b3e61b387d4b486d",
            "96ea960998a24c738230cf469a4089e0",
            "8f756a9f3cd240018a8454ae7dcb5073",
            "66dbbac2e311449c95ba758e1db39310",
            "86f1804ddc4c49bbb054dba9ec09aa83",
            "47dade978de24fd9ab496c1515f0319f",
            "d57185811d4742009d90f974d725ce2c",
            "101393d6843d4493bed285ee25e6dd4e",
            "f673bac3743a44f18f1e70cf8535d65f",
            "61830abc436742caa256d944366bac38",
            "01176a3c7f08495b9b730b03460aeb60",
            "c055b68b83a34dc9be0dfd9c76a4f4d9",
            "dce5c1da078743b582ce8e1bf4380fe8",
            "ec4002e5eba24f9ca3ef2ad23ed16626",
            "7f801c88a63743e5bb35215da1b0f8b4",
            "a6a78bc827ef495580b2c19ab275c11b",
            "2313429948584306834fc4d9da9c70d7",
            "45db08e3bd684bc9bc1f122e8503c58e",
            "bbdd33ed2233423f8bb99e757fbd3990",
            "cc3b544dd2404c2cad84cf488be84ce9",
            "3b4cb5787da849d0b7912d9bde4ca76d",
            "8b559cf2a07e4a6c92b08dd868c31da0",
            "e81caeee043f4dba9c0c4eabc2e2c53f",
            "01a55bb3e3004304ac2f92b78218b50f",
            "66442d6cc4374a53b3574badd2cb7719",
            "ad4f7806922946318674820750edb6a5",
            "8f0b978d91b0488db6c22297d203dabf",
            "9aa80255e3cc4f1b8af59c4829ea6913",
            "0522e44497134ca1ab04385ddc438f9a",
            "c45f8b0d8a77460d9fd7da3768bee8fc",
            "8144108a953a418992b91da635629f72",
            "08ae776d32d14a2d9f2012267dae554d",
            "0ae77a59978a4b249e941f20b1b086e7",
            "6d57f759a6ac4816926ed3ec5ad37a3b",
            "a966e880f97f4d808c1547bfe077d0b2",
            "cdb9864255b744ca83f50593f1f3023a",
            "092de40abf114b1a85103bf9b6a60472",
            "39f9c85ec1db40a8822b5dbb634496b5",
            "86b65de5d2bf46239c50ede21d68771b",
            "6955d829bf2644f0a514795542b4972c",
            "44e344371d8747f1b797b21027392ac4",
            "040f60abe07f44b0baa6c3ab73147c8c",
            "fb3d705eec764574807daab7a91c6d18",
            "52bc1126fa784943b6e07d10eb7c3251",
            "94258badd1644136b54b9d29d74b1fb6",
            "bdeda61a2a8e4050b0295b6c8981bfeb",
            "6c71efff20124f798c2a1afa4b29e393",
            "13582e89fcdb407283d2a3599c1de580",
            "402bc6222ab84277a5193d519e4abc4c",
            "038e0cd5a6424331833df6674f7c5441",
            "3a3b550827c5473eb8d8a13e7e605417",
            "299e36bfccf04164868e94cd665e1d33",
            "df8057c1e34f43269b8623dbcda4eeb7",
            "0ff79ca5b98444bbb0433b2c2cbedc11",
            "723ddc44b5884db18c4427eabf82cca3",
            "0946a73b37914071bda56223507ec258",
            "f5752efbb76e44a38f6f749d6b2de806",
            "b09b65a959784da8a08783f7848cab78",
            "23b6f33e687a42e49114ef62952f0a96",
            "b54561d345b54b15bf463f54fa04637e",
            "a082336e46c8414a897f74d618488ac4",
            "ea897be576864fefa8ca68c197d565dc",
            "e3db4b3e6a704a03aba280f1f874c586",
            "ee331db26fe64c96b3a47e7aac360f71",
            "a9e94f7299ce4d89af6de84ff305a3a0",
            "9ac4c9788e364aacb02d22882e7d48c7",
            "7730443847384e68b30d68701997de72",
            "2ccff7a6f02d4f7fa16dd6b8a50ff169",
            "e6fdf58d051144caaacc72abc04a620f",
            "2895f7b8d1844164806a19bee0c84f90",
            "0e944a56436643539f7b39bfb0aef365",
            "66d95708b5774056b906cbc82fd1b3a2",
            "93a2d6f094754b8ca22d99639852afa5",
            "3f197317c1d849b7a4013975b7d2b013",
            "b1417302774445709663ad44adf59cc3",
            "6df642eb70e54f0a99246eee83e9686b",
            "ecfd748612f9418688a5fcc40edcbe23",
            "bb841c99ffbf491c95da6ca275a82629",
            "39c2cf2fdeaf48ed81df3330c3486ee6",
            "d9b7ba74e2604b46b5c5b0598cf1a19c",
            "52256de81099466bb1947c10c67a968a",
            "f862873acef44a19b3c304bce47508ed",
            "36b956c17e5943eb98795be53b82ddd9",
            "41a11e97688e4b7a8d7f01000db3999d",
            "59edac2ee1b1447ab5137910b8790ead",
            "a7c99735277949cf83c335fb280fd160",
            "e5a2b3df597644c9b61ce27e4393ddd1",
            "bac4ed34dfed4496b7d642beb812e113",
            "cc7353ff3b63413f9620234a44da815b",
            "fef92d31cd624ff6ac6343ea9403bf46",
            "a7712a4c28b34802a9ac898193ade7af",
            "67cb4888b2ef49d29fb25e11ba6b3847",
            "e3b10102cf9a46ef8e97807f752b63df",
            "5aeffc91296643db94554083cc1df8cf",
            "8f494f0c4101459dbe6328633dc2163b",
            "b8b9ba88deec416aabfd92abdbac10e9",
            "ff1dc03be1674b2b9388e74db72b6b83",
            "73778357f1df46d393ddb62656f03094",
            "a5b136090db546aab8196cd65527691c",
            "6a2f67af53714ded9b79b080bb7c731b",
            "332afc9f54a9423583f24b7bb66319cb",
            "7be6d7b6c14d40c983928680adb69ba4",
            "32a277c0d99e417d9ebf283f4dadfcf8",
            "3d79dac783a04d2e8279b18ec52ce4b2",
            "21de0f42e8824aa4a6f9a784b1e913d4",
            "8a730c61d6e14d4aa0cadc99cf5fcffb",
            "a00b95f2e13a4bc1b6d089eab8bde890",
            "25f05f2ddc154e059216c7cbd03ec49b",
            "329a0a48c45b428ab28bdcb83621041a",
            "adaebe8cd06c445783d9b1dded2c17d5",
            "0f95c4cf11e64c2794b3707ed1b482d4",
            "7dc0441769094d03abf7c75f6df55488",
            "6a80da39d43440efa89e63c55a38d32d",
            "baa85f8b4aa34666b4e640a1ff574815",
            "210930c8b479434085a7c1a837b343ad",
            "d5dce45ca4514fd79edc1081dfe28d21",
            "865aa292ac3b4a2bbebe954d715a088d",
            "d19ce139368f41c683916af8da3ced59",
            "a23c0486127443718b74aa86bfbd5198",
            "1d95f452661d4560ab08983178f97d3e",
            "5451b8ee69ae4068addde0dd9eb65892",
            "e70bd06d3ba7405b9f821a15bc553d79",
            "ae28fd4f0390453ea048aae1be3fabdd",
            "3396cb7b78064acbb181874ec02fefb7",
            "a9d1f378a02f42f493397a82453f10d9",
            "fca4c2ef9ccb492baaf8a33055417b3e",
            "2158e3fdccb840eb814edbc9a8968a30",
            "0f408da0dcc94e108f201c4dc16df311",
            "cd7d7b94209f470588ffc6ed83ff3c9c",
            "45bb9d88296342f7844a0c51c63d8659",
            "c77ede98ed4d4bdda73837123b9f6e2d",
            "c35a0dca75ae4337a7495335e390eac4",
            "2f6cfded4344470d89f96c2faebc2104",
            "33ea35fd9abf4a51b98e9c013ff8e681",
            "62ed511e9b84434b9fb46f3d14737f1d",
            "bbc0c2dfb50f4e16b243991d08244718",
            "609ab22ef84241519f561cda335687fd",
            "d04d91b949774d13a5b7bddae9af364f",
            "f1d8bdf7df6f41039de64410d0400cca",
            "eae47f75891b443ab3d9f4289806eba3",
            "debec344520548f6a5f35ad94d1a793d",
            "2ffc4a1bdf904eecb880f06652a0ec71",
            "80cc9e7b2fcd4b32a802d9a0806799e6",
            "48e260d3003249e4b3989805ba83b8f5",
            "3a0e9a9cba6046739bfe1baa3975365b",
            "c9509cefcb254ac681843d3bb45a64f6",
            "fc4769d102a346b78c82616ebac4b3cb",
            "f607b52fc0a74f1db64dcde799fd6d4b",
            "44a5d465167d4dbd9ac9e3aa2c48e95c",
            "8b161be8f0c84c0693be2f635165c9c5",
            "fc257baf058646cba0950663b398d595",
            "f9c9b6cc48aa4618bc187ecf6ebb2e26",
            "eab5a52ed21d40b1b649508f7df02f26",
            "1caf55d3ab2841a4aceacc03af635f9f",
            "f73002062f9045a4b41f4ef5c046d856",
            "f38005ce3eec496db8659922e88a0b6d",
            "8298f25c14154aed90877e37e1fe3db4",
            "7968a56477cf44b5a8ce7a79c38f1744",
            "94982e9631da44d1b45e8117ec370cbc",
            "0979e8257173444391b9dfd6921be95f",
            "401bad452da24451888e63785ef9161c",
            "29d4cc933a8745eda66d191fdeded0cc",
            "66dcdb60201e4ecca99e88eea57f97e0",
            "c154629275ab4b93b1eccb82c274e1f9",
            "9192bde6fdbe432986b14079681cf94a",
            "d6fed5b96e5b47d6b59c673b8f63ab7b",
            "8e43a805fd2e48f2bd959476db1b2100",
            "253f9d70ffa540ecb486c00cc1ffa632",
            "f110f216307c458c8eca1c3702db5b8e",
            "154e05cea1a24d7c96e98f52aa554fa2",
            "0149d051f86d4a4bae80c455217f0899",
            "95fa57700ef140a0becd10d0950ba6f1",
            "ba4bdbc48c9048048a5d2985b9135218",
            "b8a62ea9250440acad0989c17dee0aa9",
            "788ed53d4c77455ebca5abd6588663fa",
            "2836418d5e36450fa247d0321aaf4e43",
            "e4a6f5231b1c42629c70281d1c1f507c",
            "9828d870eb0a4f98a76a89c9b3ebb01a",
            "25aa764768c441d2b465d5fe66ab13fe",
            "d359c0c512cc40aebc620c1cbc36c8b8",
            "b31ea20764bc41b98b18d9a1968963de",
            "2472d69a2299434aba24735c3d38f1d4",
            "5218af0bca0e4342bbaa2bfc65011b1a",
            "2d957402744d4e69b1129f9d31f61f53",
            "eb9e8963d6fc42409895f1d48e4a8c94",
            "3e1405be29854d7cb3626dbc7a4f3062",
            "1f2ef238aefa4ecfa823835bed3f8876",
            "8849d2ea48f64a3d9c53740ce7576619",
            "5e043b79fc464bd5b8a9eea0d672ec20",
            "adf9c2aedc4945e88935e7e00ce29c7d",
            "1e7553aba93c4da09bd95d3e00ddc545",
            "a0879e9f484149ddb916ccdc77245b52",
            "9d51dadca93f48e58b222d2ca86eb5ba",
            "ba113ac7aa7846b9a6baf6367ca4fcc4",
            "177ead9bceac4731b6bc9a354ac36506",
            "48c967e2750f49009b7e23a01d3a8b3d",
            "7a9d3a3f4b6c44a9add98f743546b6df",
            "7f0958cb594742ae92b6b9564da7f8ad",
            "17173e166984469bbe3854927d1b2a35",
            "88cb2a74fbca49b898c731d50949584d",
            "5620f200f6c34986b9799d68a20ffee7",
            "ed6f17ebc196431aa006ef567a5be270",
            "677efb82a25a443ba8f7d1376511a6fa",
            "5f06e30ffd8e47aa837b05c75f6ec441",
            "59293e6e88a44a2a881d73699af5dcb6",
            "ffe85bec99a54a03a2f5b33c4052d2cd",
            "16b62f62bfd542f3bca41f68a2dd002a",
            "8ec194348eed4beeace71edad7db63a7",
            "071cbd1a578047e0abeeef1dc0c6d6fc",
            "9fd7a66abb2e4b04b8551c55fea1d90e",
            "e4bc72ff46764b518eaac732bccd8a8f",
            "089f3f6f9cee4d93893c11d705fc8184",
            "ae8f35249096430280161b918cce079b",
            "0e9db43c31d24726b47e161a47f5b447",
            "1a904592ab844d62b7fa397890aaf7f0",
            "c3b50cae068c47318d553c091a88d78f",
            "472aa833344143368ed98a44bc47d89b",
            "4a9d2d4c00774333a13b4129a2b81bd8",
            "cf5044d1b85144aa9eda896404720fbf",
            "573f2b5540114d8cb42314af62e43308",
            "8b63c46ac14b48e1a0b38b3f9a29f36c",
            "e953a682340045deba2f4cdee89a47a8",
            "9d4708b0eca24da7b327152c31122abd",
            "41dbdc4c3e0b4464a64d717f35d92d98",
            "d0a5f53722a54f558999e17fa484c068",
            "68ea46ab06c34919891312e27b53a3f1",
            "070ef7b0058c4f788a8c6ffaa19fd917",
            "f97127f0a2424faaa9001aab6e2eb7b7"
          ]
        },
        "id": "5nXZv9ea7PAq",
        "outputId": "6c491168-5954-4845-c976-4372b81605b3"
      },
      "outputs": [
        {
          "data": {
            "application/vnd.jupyter.widget-view+json": {
              "model_id": "aae6f28767694537a4eed4ba1e39c13f",
              "version_major": 2,
              "version_minor": 0
            },
            "text/plain": [
              "  0%|          | 0/75 [00:00<?, ?it/s]"
            ]
          },
          "metadata": {},
          "output_type": "display_data"
        },
        {
          "name": "stdout",
          "output_type": "stream",
          "text": [
            "✅ Saved: shf-gen-outputs/women/asiri/asiri_wome_1.png\n"
          ]
        },
        {
          "data": {
            "application/vnd.jupyter.widget-view+json": {
              "model_id": "6b90ef4b47d5436bab5586f86de61c95",
              "version_major": 2,
              "version_minor": 0
            },
            "text/plain": [
              "  0%|          | 0/75 [00:00<?, ?it/s]"
            ]
          },
          "metadata": {},
          "output_type": "display_data"
        },
        {
          "name": "stdout",
          "output_type": "stream",
          "text": [
            "✅ Saved: shf-gen-outputs/women/asiri/asiri_wome_2.png\n"
          ]
        },
        {
          "data": {
            "application/vnd.jupyter.widget-view+json": {
              "model_id": "fb39f41896054345baf881e197690920",
              "version_major": 2,
              "version_minor": 0
            },
            "text/plain": [
              "  0%|          | 0/75 [00:00<?, ?it/s]"
            ]
          },
          "metadata": {},
          "output_type": "display_data"
        },
        {
          "name": "stdout",
          "output_type": "stream",
          "text": [
            "✅ Saved: shf-gen-outputs/women/asiri/asiri_wome_3.png\n"
          ]
        },
        {
          "data": {
            "application/vnd.jupyter.widget-view+json": {
              "model_id": "71b59e481fdf41cda8d9e40ba41cbb3b",
              "version_major": 2,
              "version_minor": 0
            },
            "text/plain": [
              "  0%|          | 0/75 [00:00<?, ?it/s]"
            ]
          },
          "metadata": {},
          "output_type": "display_data"
        },
        {
          "name": "stdout",
          "output_type": "stream",
          "text": [
            "✅ Saved: shf-gen-outputs/women/asiri/asiri_wome_4.png\n"
          ]
        },
        {
          "data": {
            "application/vnd.jupyter.widget-view+json": {
              "model_id": "c3734087b57340ffa951233fccc513fd",
              "version_major": 2,
              "version_minor": 0
            },
            "text/plain": [
              "  0%|          | 0/75 [00:00<?, ?it/s]"
            ]
          },
          "metadata": {},
          "output_type": "display_data"
        },
        {
          "name": "stdout",
          "output_type": "stream",
          "text": [
            "✅ Saved: shf-gen-outputs/women/asiri/asiri_wome_5.png\n"
          ]
        },
        {
          "data": {
            "application/vnd.jupyter.widget-view+json": {
              "model_id": "7f2ff57f355f4327b570d0ee99b315a5",
              "version_major": 2,
              "version_minor": 0
            },
            "text/plain": [
              "  0%|          | 0/75 [00:00<?, ?it/s]"
            ]
          },
          "metadata": {},
          "output_type": "display_data"
        },
        {
          "name": "stdout",
          "output_type": "stream",
          "text": [
            "✅ Saved: shf-gen-outputs/women/asiri/asiri_wome_6.png\n"
          ]
        },
        {
          "data": {
            "application/vnd.jupyter.widget-view+json": {
              "model_id": "aec2c42c19ea4efea67ca875bbf8fb70",
              "version_major": 2,
              "version_minor": 0
            },
            "text/plain": [
              "  0%|          | 0/75 [00:00<?, ?it/s]"
            ]
          },
          "metadata": {},
          "output_type": "display_data"
        },
        {
          "name": "stdout",
          "output_type": "stream",
          "text": [
            "✅ Saved: shf-gen-outputs/women/asiri/asiri_wome_7.png\n"
          ]
        },
        {
          "data": {
            "application/vnd.jupyter.widget-view+json": {
              "model_id": "2c57083649214dd6bfb56db21c616248",
              "version_major": 2,
              "version_minor": 0
            },
            "text/plain": [
              "  0%|          | 0/75 [00:00<?, ?it/s]"
            ]
          },
          "metadata": {},
          "output_type": "display_data"
        },
        {
          "name": "stdout",
          "output_type": "stream",
          "text": [
            "✅ Saved: shf-gen-outputs/women/asiri/asiri_wome_8.png\n"
          ]
        },
        {
          "data": {
            "application/vnd.jupyter.widget-view+json": {
              "model_id": "ea14d037677b4be8ad76a53b9663225d",
              "version_major": 2,
              "version_minor": 0
            },
            "text/plain": [
              "  0%|          | 0/75 [00:00<?, ?it/s]"
            ]
          },
          "metadata": {},
          "output_type": "display_data"
        },
        {
          "name": "stdout",
          "output_type": "stream",
          "text": [
            "✅ Saved: shf-gen-outputs/women/asiri/asiri_wome_9.png\n"
          ]
        },
        {
          "data": {
            "application/vnd.jupyter.widget-view+json": {
              "model_id": "3d5ac6b557b04b1da6c8f83aa15b2530",
              "version_major": 2,
              "version_minor": 0
            },
            "text/plain": [
              "  0%|          | 0/75 [00:00<?, ?it/s]"
            ]
          },
          "metadata": {},
          "output_type": "display_data"
        },
        {
          "name": "stdout",
          "output_type": "stream",
          "text": [
            "✅ Saved: shf-gen-outputs/women/asiri/asiri_wome_10.png\n"
          ]
        },
        {
          "data": {
            "application/vnd.jupyter.widget-view+json": {
              "model_id": "34ad1d0fa1f84b3f9b0a9916f1ad83d4",
              "version_major": 2,
              "version_minor": 0
            },
            "text/plain": [
              "  0%|          | 0/75 [00:00<?, ?it/s]"
            ]
          },
          "metadata": {},
          "output_type": "display_data"
        },
        {
          "name": "stdout",
          "output_type": "stream",
          "text": [
            "✅ Saved: shf-gen-outputs/women/asiri/asiri_wome_11.png\n"
          ]
        },
        {
          "data": {
            "application/vnd.jupyter.widget-view+json": {
              "model_id": "bf9ba59653a240ac87616162c588f7e4",
              "version_major": 2,
              "version_minor": 0
            },
            "text/plain": [
              "  0%|          | 0/75 [00:00<?, ?it/s]"
            ]
          },
          "metadata": {},
          "output_type": "display_data"
        },
        {
          "name": "stdout",
          "output_type": "stream",
          "text": [
            "✅ Saved: shf-gen-outputs/men/asiri/asiri_me_1.png\n"
          ]
        },
        {
          "data": {
            "application/vnd.jupyter.widget-view+json": {
              "model_id": "320abf7c3eda47238e21ae779b7e6202",
              "version_major": 2,
              "version_minor": 0
            },
            "text/plain": [
              "  0%|          | 0/75 [00:00<?, ?it/s]"
            ]
          },
          "metadata": {},
          "output_type": "display_data"
        },
        {
          "name": "stdout",
          "output_type": "stream",
          "text": [
            "✅ Saved: shf-gen-outputs/men/asiri/asiri_me_2.png\n"
          ]
        },
        {
          "data": {
            "application/vnd.jupyter.widget-view+json": {
              "model_id": "1c5e5baae0bf423bac305133490b711d",
              "version_major": 2,
              "version_minor": 0
            },
            "text/plain": [
              "  0%|          | 0/75 [00:00<?, ?it/s]"
            ]
          },
          "metadata": {},
          "output_type": "display_data"
        },
        {
          "name": "stdout",
          "output_type": "stream",
          "text": [
            "✅ Saved: shf-gen-outputs/men/asiri/asiri_me_3.png\n"
          ]
        },
        {
          "data": {
            "application/vnd.jupyter.widget-view+json": {
              "model_id": "43c4e3f569a64fb3a207c924c297f16f",
              "version_major": 2,
              "version_minor": 0
            },
            "text/plain": [
              "  0%|          | 0/75 [00:00<?, ?it/s]"
            ]
          },
          "metadata": {},
          "output_type": "display_data"
        },
        {
          "name": "stdout",
          "output_type": "stream",
          "text": [
            "✅ Saved: shf-gen-outputs/men/asiri/asiri_me_4.png\n"
          ]
        },
        {
          "data": {
            "application/vnd.jupyter.widget-view+json": {
              "model_id": "cb2e34f537b7494280287c295be0fc00",
              "version_major": 2,
              "version_minor": 0
            },
            "text/plain": [
              "  0%|          | 0/75 [00:00<?, ?it/s]"
            ]
          },
          "metadata": {},
          "output_type": "display_data"
        },
        {
          "name": "stdout",
          "output_type": "stream",
          "text": [
            "✅ Saved: shf-gen-outputs/men/asiri/asiri_me_5.png\n"
          ]
        },
        {
          "data": {
            "application/vnd.jupyter.widget-view+json": {
              "model_id": "f9a96e1fd9994ea4a68a10dfbda3fa6e",
              "version_major": 2,
              "version_minor": 0
            },
            "text/plain": [
              "  0%|          | 0/75 [00:00<?, ?it/s]"
            ]
          },
          "metadata": {},
          "output_type": "display_data"
        },
        {
          "name": "stdout",
          "output_type": "stream",
          "text": [
            "✅ Saved: shf-gen-outputs/men/asiri/asiri_me_6.png\n"
          ]
        },
        {
          "data": {
            "application/vnd.jupyter.widget-view+json": {
              "model_id": "62bbdccdd3dc4d95a88b32acfc3a747f",
              "version_major": 2,
              "version_minor": 0
            },
            "text/plain": [
              "  0%|          | 0/75 [00:00<?, ?it/s]"
            ]
          },
          "metadata": {},
          "output_type": "display_data"
        },
        {
          "name": "stdout",
          "output_type": "stream",
          "text": [
            "✅ Saved: shf-gen-outputs/men/asiri/asiri_me_7.png\n"
          ]
        },
        {
          "data": {
            "application/vnd.jupyter.widget-view+json": {
              "model_id": "ce402a5c41674974abc2a8913a49d653",
              "version_major": 2,
              "version_minor": 0
            },
            "text/plain": [
              "  0%|          | 0/75 [00:00<?, ?it/s]"
            ]
          },
          "metadata": {},
          "output_type": "display_data"
        },
        {
          "name": "stdout",
          "output_type": "stream",
          "text": [
            "✅ Saved: shf-gen-outputs/men/asiri/asiri_me_8.png\n"
          ]
        },
        {
          "data": {
            "application/vnd.jupyter.widget-view+json": {
              "model_id": "a26efd093a31403fa91b0a643f426489",
              "version_major": 2,
              "version_minor": 0
            },
            "text/plain": [
              "  0%|          | 0/75 [00:00<?, ?it/s]"
            ]
          },
          "metadata": {},
          "output_type": "display_data"
        },
        {
          "name": "stdout",
          "output_type": "stream",
          "text": [
            "✅ Saved: shf-gen-outputs/men/asiri/asiri_me_9.png\n"
          ]
        },
        {
          "data": {
            "application/vnd.jupyter.widget-view+json": {
              "model_id": "4dd4ec80c1324ecca53c9c56c1eff0f2",
              "version_major": 2,
              "version_minor": 0
            },
            "text/plain": [
              "  0%|          | 0/75 [00:00<?, ?it/s]"
            ]
          },
          "metadata": {},
          "output_type": "display_data"
        },
        {
          "name": "stdout",
          "output_type": "stream",
          "text": [
            "✅ Saved: shf-gen-outputs/women/hijazi/hijazi_wome_1.png\n"
          ]
        },
        {
          "data": {
            "application/vnd.jupyter.widget-view+json": {
              "model_id": "3058020e4d2343c1b2d76af5b35e782e",
              "version_major": 2,
              "version_minor": 0
            },
            "text/plain": [
              "  0%|          | 0/75 [00:00<?, ?it/s]"
            ]
          },
          "metadata": {},
          "output_type": "display_data"
        },
        {
          "name": "stdout",
          "output_type": "stream",
          "text": [
            "✅ Saved: shf-gen-outputs/women/hijazi/hijazi_wome_2.png\n"
          ]
        },
        {
          "data": {
            "application/vnd.jupyter.widget-view+json": {
              "model_id": "32750bf131734c4e8af977cbbf5e1ab9",
              "version_major": 2,
              "version_minor": 0
            },
            "text/plain": [
              "  0%|          | 0/75 [00:00<?, ?it/s]"
            ]
          },
          "metadata": {},
          "output_type": "display_data"
        },
        {
          "name": "stdout",
          "output_type": "stream",
          "text": [
            "✅ Saved: shf-gen-outputs/women/hijazi/hijazi_wome_3.png\n"
          ]
        },
        {
          "data": {
            "application/vnd.jupyter.widget-view+json": {
              "model_id": "d0b11bdeded34e4b9bcb3daf16275019",
              "version_major": 2,
              "version_minor": 0
            },
            "text/plain": [
              "  0%|          | 0/75 [00:00<?, ?it/s]"
            ]
          },
          "metadata": {},
          "output_type": "display_data"
        },
        {
          "name": "stdout",
          "output_type": "stream",
          "text": [
            "✅ Saved: shf-gen-outputs/women/hijazi/hijazi_wome_4.png\n"
          ]
        },
        {
          "data": {
            "application/vnd.jupyter.widget-view+json": {
              "model_id": "76ea3818a3a84ec19a1e6a6b279e4a6e",
              "version_major": 2,
              "version_minor": 0
            },
            "text/plain": [
              "  0%|          | 0/75 [00:00<?, ?it/s]"
            ]
          },
          "metadata": {},
          "output_type": "display_data"
        },
        {
          "name": "stdout",
          "output_type": "stream",
          "text": [
            "✅ Saved: shf-gen-outputs/women/hijazi/hijazi_wome_5.png\n"
          ]
        },
        {
          "data": {
            "application/vnd.jupyter.widget-view+json": {
              "model_id": "62e8f926300044cd8632c79caaffc589",
              "version_major": 2,
              "version_minor": 0
            },
            "text/plain": [
              "  0%|          | 0/75 [00:00<?, ?it/s]"
            ]
          },
          "metadata": {},
          "output_type": "display_data"
        },
        {
          "name": "stdout",
          "output_type": "stream",
          "text": [
            "✅ Saved: shf-gen-outputs/women/hijazi/hijazi_wome_6.png\n"
          ]
        },
        {
          "data": {
            "application/vnd.jupyter.widget-view+json": {
              "model_id": "b31107ec2da148ec9a9ba2b4d2d42087",
              "version_major": 2,
              "version_minor": 0
            },
            "text/plain": [
              "  0%|          | 0/75 [00:00<?, ?it/s]"
            ]
          },
          "metadata": {},
          "output_type": "display_data"
        },
        {
          "name": "stdout",
          "output_type": "stream",
          "text": [
            "✅ Saved: shf-gen-outputs/women/hijazi/hijazi_wome_7.png\n"
          ]
        },
        {
          "data": {
            "application/vnd.jupyter.widget-view+json": {
              "model_id": "f8c961ae116f4ac0b2f6ec7055a78e75",
              "version_major": 2,
              "version_minor": 0
            },
            "text/plain": [
              "  0%|          | 0/75 [00:00<?, ?it/s]"
            ]
          },
          "metadata": {},
          "output_type": "display_data"
        },
        {
          "name": "stdout",
          "output_type": "stream",
          "text": [
            "✅ Saved: shf-gen-outputs/women/hijazi/hijazi_wome_8.png\n"
          ]
        },
        {
          "data": {
            "application/vnd.jupyter.widget-view+json": {
              "model_id": "978a510c3a8340118293210f61da2921",
              "version_major": 2,
              "version_minor": 0
            },
            "text/plain": [
              "  0%|          | 0/75 [00:00<?, ?it/s]"
            ]
          },
          "metadata": {},
          "output_type": "display_data"
        },
        {
          "name": "stdout",
          "output_type": "stream",
          "text": [
            "✅ Saved: shf-gen-outputs/women/hijazi/hijazi_wome_9.png\n"
          ]
        },
        {
          "data": {
            "application/vnd.jupyter.widget-view+json": {
              "model_id": "4a77fb0510204076868504ae81317677",
              "version_major": 2,
              "version_minor": 0
            },
            "text/plain": [
              "  0%|          | 0/75 [00:00<?, ?it/s]"
            ]
          },
          "metadata": {},
          "output_type": "display_data"
        },
        {
          "name": "stdout",
          "output_type": "stream",
          "text": [
            "✅ Saved: shf-gen-outputs/women/hijazi/hijazi_wome_10.png\n"
          ]
        },
        {
          "data": {
            "application/vnd.jupyter.widget-view+json": {
              "model_id": "3ca833672e4b4302bab3635ba922c00d",
              "version_major": 2,
              "version_minor": 0
            },
            "text/plain": [
              "  0%|          | 0/75 [00:00<?, ?it/s]"
            ]
          },
          "metadata": {},
          "output_type": "display_data"
        },
        {
          "name": "stdout",
          "output_type": "stream",
          "text": [
            "✅ Saved: shf-gen-outputs/women/hijazi/hijazi_wome_11.png\n"
          ]
        },
        {
          "data": {
            "application/vnd.jupyter.widget-view+json": {
              "model_id": "ee70c1d2474941b6b1be1fbf6c43f2f0",
              "version_major": 2,
              "version_minor": 0
            },
            "text/plain": [
              "  0%|          | 0/75 [00:00<?, ?it/s]"
            ]
          },
          "metadata": {},
          "output_type": "display_data"
        },
        {
          "name": "stdout",
          "output_type": "stream",
          "text": [
            "✅ Saved: shf-gen-outputs/men/hijazi/hijazi_me_1.png\n"
          ]
        },
        {
          "data": {
            "application/vnd.jupyter.widget-view+json": {
              "model_id": "1ef3127cbf3b463ca57641bf873bbbba",
              "version_major": 2,
              "version_minor": 0
            },
            "text/plain": [
              "  0%|          | 0/75 [00:00<?, ?it/s]"
            ]
          },
          "metadata": {},
          "output_type": "display_data"
        },
        {
          "name": "stdout",
          "output_type": "stream",
          "text": [
            "✅ Saved: shf-gen-outputs/men/hijazi/hijazi_me_2.png\n"
          ]
        },
        {
          "data": {
            "application/vnd.jupyter.widget-view+json": {
              "model_id": "495f42f355974675afcb433101267d52",
              "version_major": 2,
              "version_minor": 0
            },
            "text/plain": [
              "  0%|          | 0/75 [00:00<?, ?it/s]"
            ]
          },
          "metadata": {},
          "output_type": "display_data"
        },
        {
          "name": "stdout",
          "output_type": "stream",
          "text": [
            "✅ Saved: shf-gen-outputs/men/hijazi/hijazi_me_3.png\n"
          ]
        },
        {
          "data": {
            "application/vnd.jupyter.widget-view+json": {
              "model_id": "d0781e82ff894ed49380439f8e2e539a",
              "version_major": 2,
              "version_minor": 0
            },
            "text/plain": [
              "  0%|          | 0/75 [00:00<?, ?it/s]"
            ]
          },
          "metadata": {},
          "output_type": "display_data"
        },
        {
          "name": "stdout",
          "output_type": "stream",
          "text": [
            "✅ Saved: shf-gen-outputs/men/hijazi/hijazi_me_4.png\n"
          ]
        },
        {
          "data": {
            "application/vnd.jupyter.widget-view+json": {
              "model_id": "35ae016894a04b4982bb3999889258fd",
              "version_major": 2,
              "version_minor": 0
            },
            "text/plain": [
              "  0%|          | 0/75 [00:00<?, ?it/s]"
            ]
          },
          "metadata": {},
          "output_type": "display_data"
        },
        {
          "name": "stdout",
          "output_type": "stream",
          "text": [
            "✅ Saved: shf-gen-outputs/men/hijazi/hijazi_me_5.png\n"
          ]
        },
        {
          "data": {
            "application/vnd.jupyter.widget-view+json": {
              "model_id": "ce2ee778a72e4cfabff8ca89a0360b0a",
              "version_major": 2,
              "version_minor": 0
            },
            "text/plain": [
              "  0%|          | 0/75 [00:00<?, ?it/s]"
            ]
          },
          "metadata": {},
          "output_type": "display_data"
        },
        {
          "name": "stdout",
          "output_type": "stream",
          "text": [
            "✅ Saved: shf-gen-outputs/men/hijazi/hijazi_me_6.png\n"
          ]
        },
        {
          "data": {
            "application/vnd.jupyter.widget-view+json": {
              "model_id": "c142734fdf7e464e83f71c6f59e8d931",
              "version_major": 2,
              "version_minor": 0
            },
            "text/plain": [
              "  0%|          | 0/75 [00:00<?, ?it/s]"
            ]
          },
          "metadata": {},
          "output_type": "display_data"
        },
        {
          "name": "stdout",
          "output_type": "stream",
          "text": [
            "✅ Saved: shf-gen-outputs/men/hijazi/hijazi_me_7.png\n"
          ]
        },
        {
          "data": {
            "application/vnd.jupyter.widget-view+json": {
              "model_id": "df972bbb3c9d49efb013cbee579d0424",
              "version_major": 2,
              "version_minor": 0
            },
            "text/plain": [
              "  0%|          | 0/75 [00:00<?, ?it/s]"
            ]
          },
          "metadata": {},
          "output_type": "display_data"
        },
        {
          "name": "stdout",
          "output_type": "stream",
          "text": [
            "✅ Saved: shf-gen-outputs/men/hijazi/hijazi_me_8.png\n"
          ]
        },
        {
          "data": {
            "application/vnd.jupyter.widget-view+json": {
              "model_id": "d293682c90b9478597f779ac6cb14d3f",
              "version_major": 2,
              "version_minor": 0
            },
            "text/plain": [
              "  0%|          | 0/75 [00:00<?, ?it/s]"
            ]
          },
          "metadata": {},
          "output_type": "display_data"
        },
        {
          "name": "stdout",
          "output_type": "stream",
          "text": [
            "✅ Saved: shf-gen-outputs/women/najdi/najdi_wome_1.png\n"
          ]
        },
        {
          "data": {
            "application/vnd.jupyter.widget-view+json": {
              "model_id": "f673bac3743a44f18f1e70cf8535d65f",
              "version_major": 2,
              "version_minor": 0
            },
            "text/plain": [
              "  0%|          | 0/75 [00:00<?, ?it/s]"
            ]
          },
          "metadata": {},
          "output_type": "display_data"
        },
        {
          "name": "stdout",
          "output_type": "stream",
          "text": [
            "✅ Saved: shf-gen-outputs/women/najdi/najdi_wome_2.png\n"
          ]
        },
        {
          "data": {
            "application/vnd.jupyter.widget-view+json": {
              "model_id": "cc3b544dd2404c2cad84cf488be84ce9",
              "version_major": 2,
              "version_minor": 0
            },
            "text/plain": [
              "  0%|          | 0/75 [00:00<?, ?it/s]"
            ]
          },
          "metadata": {},
          "output_type": "display_data"
        },
        {
          "name": "stdout",
          "output_type": "stream",
          "text": [
            "✅ Saved: shf-gen-outputs/women/najdi/najdi_wome_3.png\n"
          ]
        },
        {
          "data": {
            "application/vnd.jupyter.widget-view+json": {
              "model_id": "8144108a953a418992b91da635629f72",
              "version_major": 2,
              "version_minor": 0
            },
            "text/plain": [
              "  0%|          | 0/75 [00:00<?, ?it/s]"
            ]
          },
          "metadata": {},
          "output_type": "display_data"
        },
        {
          "name": "stdout",
          "output_type": "stream",
          "text": [
            "✅ Saved: shf-gen-outputs/women/najdi/najdi_wome_4.png\n"
          ]
        },
        {
          "data": {
            "application/vnd.jupyter.widget-view+json": {
              "model_id": "040f60abe07f44b0baa6c3ab73147c8c",
              "version_major": 2,
              "version_minor": 0
            },
            "text/plain": [
              "  0%|          | 0/75 [00:00<?, ?it/s]"
            ]
          },
          "metadata": {},
          "output_type": "display_data"
        },
        {
          "name": "stdout",
          "output_type": "stream",
          "text": [
            "✅ Saved: shf-gen-outputs/women/najdi/najdi_wome_5.png\n"
          ]
        },
        {
          "data": {
            "application/vnd.jupyter.widget-view+json": {
              "model_id": "df8057c1e34f43269b8623dbcda4eeb7",
              "version_major": 2,
              "version_minor": 0
            },
            "text/plain": [
              "  0%|          | 0/75 [00:00<?, ?it/s]"
            ]
          },
          "metadata": {},
          "output_type": "display_data"
        },
        {
          "name": "stdout",
          "output_type": "stream",
          "text": [
            "✅ Saved: shf-gen-outputs/women/najdi/najdi_wome_6.png\n"
          ]
        },
        {
          "data": {
            "application/vnd.jupyter.widget-view+json": {
              "model_id": "ee331db26fe64c96b3a47e7aac360f71",
              "version_major": 2,
              "version_minor": 0
            },
            "text/plain": [
              "  0%|          | 0/75 [00:00<?, ?it/s]"
            ]
          },
          "metadata": {},
          "output_type": "display_data"
        },
        {
          "name": "stdout",
          "output_type": "stream",
          "text": [
            "✅ Saved: shf-gen-outputs/women/najdi/najdi_wome_7.png\n"
          ]
        },
        {
          "data": {
            "application/vnd.jupyter.widget-view+json": {
              "model_id": "b1417302774445709663ad44adf59cc3",
              "version_major": 2,
              "version_minor": 0
            },
            "text/plain": [
              "  0%|          | 0/75 [00:00<?, ?it/s]"
            ]
          },
          "metadata": {},
          "output_type": "display_data"
        },
        {
          "name": "stdout",
          "output_type": "stream",
          "text": [
            "✅ Saved: shf-gen-outputs/women/najdi/najdi_wome_8.png\n"
          ]
        },
        {
          "data": {
            "application/vnd.jupyter.widget-view+json": {
              "model_id": "a7c99735277949cf83c335fb280fd160",
              "version_major": 2,
              "version_minor": 0
            },
            "text/plain": [
              "  0%|          | 0/75 [00:00<?, ?it/s]"
            ]
          },
          "metadata": {},
          "output_type": "display_data"
        },
        {
          "name": "stdout",
          "output_type": "stream",
          "text": [
            "✅ Saved: shf-gen-outputs/women/najdi/najdi_wome_9.png\n"
          ]
        },
        {
          "data": {
            "application/vnd.jupyter.widget-view+json": {
              "model_id": "ff1dc03be1674b2b9388e74db72b6b83",
              "version_major": 2,
              "version_minor": 0
            },
            "text/plain": [
              "  0%|          | 0/75 [00:00<?, ?it/s]"
            ]
          },
          "metadata": {},
          "output_type": "display_data"
        },
        {
          "name": "stdout",
          "output_type": "stream",
          "text": [
            "✅ Saved: shf-gen-outputs/women/najdi/najdi_wome_10.png\n"
          ]
        },
        {
          "data": {
            "application/vnd.jupyter.widget-view+json": {
              "model_id": "25f05f2ddc154e059216c7cbd03ec49b",
              "version_major": 2,
              "version_minor": 0
            },
            "text/plain": [
              "  0%|          | 0/75 [00:00<?, ?it/s]"
            ]
          },
          "metadata": {},
          "output_type": "display_data"
        },
        {
          "name": "stdout",
          "output_type": "stream",
          "text": [
            "✅ Saved: shf-gen-outputs/women/najdi/najdi_wome_11.png\n"
          ]
        },
        {
          "data": {
            "application/vnd.jupyter.widget-view+json": {
              "model_id": "a23c0486127443718b74aa86bfbd5198",
              "version_major": 2,
              "version_minor": 0
            },
            "text/plain": [
              "  0%|          | 0/75 [00:00<?, ?it/s]"
            ]
          },
          "metadata": {},
          "output_type": "display_data"
        },
        {
          "name": "stdout",
          "output_type": "stream",
          "text": [
            "✅ Saved: shf-gen-outputs/men/najdi/najdi_me_1.png\n"
          ]
        },
        {
          "data": {
            "application/vnd.jupyter.widget-view+json": {
              "model_id": "45bb9d88296342f7844a0c51c63d8659",
              "version_major": 2,
              "version_minor": 0
            },
            "text/plain": [
              "  0%|          | 0/75 [00:00<?, ?it/s]"
            ]
          },
          "metadata": {},
          "output_type": "display_data"
        },
        {
          "name": "stdout",
          "output_type": "stream",
          "text": [
            "✅ Saved: shf-gen-outputs/men/najdi/najdi_me_2.png\n"
          ]
        },
        {
          "data": {
            "application/vnd.jupyter.widget-view+json": {
              "model_id": "debec344520548f6a5f35ad94d1a793d",
              "version_major": 2,
              "version_minor": 0
            },
            "text/plain": [
              "  0%|          | 0/75 [00:00<?, ?it/s]"
            ]
          },
          "metadata": {},
          "output_type": "display_data"
        },
        {
          "name": "stdout",
          "output_type": "stream",
          "text": [
            "✅ Saved: shf-gen-outputs/men/najdi/najdi_me_3.png\n"
          ]
        },
        {
          "data": {
            "application/vnd.jupyter.widget-view+json": {
              "model_id": "f9c9b6cc48aa4618bc187ecf6ebb2e26",
              "version_major": 2,
              "version_minor": 0
            },
            "text/plain": [
              "  0%|          | 0/75 [00:00<?, ?it/s]"
            ]
          },
          "metadata": {},
          "output_type": "display_data"
        },
        {
          "name": "stdout",
          "output_type": "stream",
          "text": [
            "✅ Saved: shf-gen-outputs/men/najdi/najdi_me_4.png\n"
          ]
        },
        {
          "data": {
            "application/vnd.jupyter.widget-view+json": {
              "model_id": "66dcdb60201e4ecca99e88eea57f97e0",
              "version_major": 2,
              "version_minor": 0
            },
            "text/plain": [
              "  0%|          | 0/75 [00:00<?, ?it/s]"
            ]
          },
          "metadata": {},
          "output_type": "display_data"
        },
        {
          "name": "stdout",
          "output_type": "stream",
          "text": [
            "✅ Saved: shf-gen-outputs/men/najdi/najdi_me_5.png\n"
          ]
        },
        {
          "data": {
            "application/vnd.jupyter.widget-view+json": {
              "model_id": "b8a62ea9250440acad0989c17dee0aa9",
              "version_major": 2,
              "version_minor": 0
            },
            "text/plain": [
              "  0%|          | 0/75 [00:00<?, ?it/s]"
            ]
          },
          "metadata": {},
          "output_type": "display_data"
        },
        {
          "name": "stdout",
          "output_type": "stream",
          "text": [
            "✅ Saved: shf-gen-outputs/men/najdi/najdi_me_6.png\n"
          ]
        },
        {
          "data": {
            "application/vnd.jupyter.widget-view+json": {
              "model_id": "eb9e8963d6fc42409895f1d48e4a8c94",
              "version_major": 2,
              "version_minor": 0
            },
            "text/plain": [
              "  0%|          | 0/75 [00:00<?, ?it/s]"
            ]
          },
          "metadata": {},
          "output_type": "display_data"
        },
        {
          "name": "stdout",
          "output_type": "stream",
          "text": [
            "✅ Saved: shf-gen-outputs/men/najdi/najdi_me_7.png\n"
          ]
        },
        {
          "data": {
            "application/vnd.jupyter.widget-view+json": {
              "model_id": "48c967e2750f49009b7e23a01d3a8b3d",
              "version_major": 2,
              "version_minor": 0
            },
            "text/plain": [
              "  0%|          | 0/75 [00:00<?, ?it/s]"
            ]
          },
          "metadata": {},
          "output_type": "display_data"
        },
        {
          "name": "stdout",
          "output_type": "stream",
          "text": [
            "✅ Saved: shf-gen-outputs/men/najdi/najdi_me_8.png\n"
          ]
        },
        {
          "data": {
            "application/vnd.jupyter.widget-view+json": {
              "model_id": "16b62f62bfd542f3bca41f68a2dd002a",
              "version_major": 2,
              "version_minor": 0
            },
            "text/plain": [
              "  0%|          | 0/75 [00:00<?, ?it/s]"
            ]
          },
          "metadata": {},
          "output_type": "display_data"
        },
        {
          "name": "stdout",
          "output_type": "stream",
          "text": [
            "✅ Saved: shf-gen-outputs/men/najdi/najdi_me_9.png\n"
          ]
        },
        {
          "data": {
            "application/vnd.jupyter.widget-view+json": {
              "model_id": "4a9d2d4c00774333a13b4129a2b81bd8",
              "version_major": 2,
              "version_minor": 0
            },
            "text/plain": [
              "  0%|          | 0/75 [00:00<?, ?it/s]"
            ]
          },
          "metadata": {},
          "output_type": "display_data"
        },
        {
          "name": "stdout",
          "output_type": "stream",
          "text": [
            "✅ Saved: shf-gen-outputs/men/najdi/najdi_me_10.png\n"
          ]
        }
      ],
      "source": [
        "import os\n",
        "\n",
        "# Define prompts per class per gender (updated for cultural visualization / digital art goal)\n",
        "classes = {\n",
        "    \"asiri\": {\n",
        "        \"women\": [\n",
        "            \"Saudi Asiri woman, traditional Asiri dress, silver embroidery, cultural illustration, digital art\",\n",
        "            \"Saudi Asiri woman, traditional Asiri dress with embroidery, heritage clothing, artistic visualization\",\n",
        "            \"Asiri woman in traditional heritage dress, silver embroidery, mountain background, art style\",\n",
        "            \"artistic depiction of a woman in a traditional Saudi Asiri outfit\",\n",
        "            \"illustration of a Saudi Asiri woman wearing cultural heritage attire\",\n",
        "            \"Asiri woman, traditional straw hat, orange headscarf, embroidered dress, jewelry, cultural digital artwork\",\n",
        "            \"Saudi woman in Asiri dress, orange headband, cultural outfit, frontal view, artistic style\",\n",
        "            \"Asiri heritage woman in dress with chest and sleeve embroidery, detailed artistic patterns\",\n",
        "            \"Asiri woman, straw hat with orange scarf, embroidered sleeves, jewelry, Saudi heritage art\",\n",
        "            \"Asiri woman, traditional dress, orange headband, mountain background, cultural illustration\",\n",
        "            \"Asiri woman, straw hat with yellow scarf, embroidered dress, jewelry, heritage visualization\"\n",
        "        ],\n",
        "        \"men\": [\n",
        "            \"Asiri man, traditional embroidered thobe, southern Saudi Arabia, cultural digital art\",\n",
        "            \"Asiri man in heritage outfit, cultural embroidery, artistic style\",\n",
        "            \"Saudi Asiri man, traditional attire, southern region, heritage illustration\",\n",
        "            \"Asiri man in cultural outfit, desert background, digital artwork\",\n",
        "            \"artistic depiction of a man wearing Saudi Asiri heritage clothing\",\n",
        "            \"illustration of a man in Saudi Asiri cultural attire\",\n",
        "            \"Asiri man, traditional clothing, heritage visualization, southern Saudi Arabia, digital art\",\n",
        "            \"Asiri man, embroidered thobe, southern Saudi heritage outfit, artistic depiction\",\n",
        "            \"Saudi Asiri man in colorful heritage thobe, southern region, cultural digital artwork\"\n",
        "        ]\n",
        "    },\n",
        "    \"hijazi\": {\n",
        "        \"women\": [\n",
        "            \"Hijazi woman, traditional pink dress, golden embroidery, Saudi heritage illustration, ornate headpiece\",\n",
        "            \"Hijazi woman in pink traditional dress with golden embroidery, mountain background, digital art\",\n",
        "            \"artistic depiction of a woman in a traditional Saudi Hijazi outfit\",\n",
        "            \"illustration of a Saudi Hijazi woman in cultural heritage attire\",\n",
        "            \"Saudi woman in Hijazi dress with chest and sleeve embroidery, detailed cultural patterns, digital artwork\",\n",
        "            \"Hijazi woman in blue traditional dress with golden embroidery and head accessory, artistic style\",\n",
        "            \"Hijazi woman, flowing red gown, golden details, ornate headpiece, western Saudi heritage illustration\",\n",
        "            \"woman in white Hijazi dress, golden embellishment, traditional headwear, cultural visualization\",\n",
        "            \"Hijazi woman in blue dress with golden embroidery, mountain background, digital art\",\n",
        "            \"Hijazi woman, flowing red gown with embroidery and jewelry, cultural artistic depiction\",\n",
        "            \"Hijazi woman, ornate golden details, embroidered sleeves, jewelry, heritage art style\"\n",
        "        ],\n",
        "        \"men\": [\n",
        "            \"Hijazi man in embroidered thobe, western Saudi Arabia, heritage illustration\",\n",
        "            \"Hijazi man in traditional heritage outfit, cultural embroidery, digital art\",\n",
        "            \"artistic depiction of a man wearing a traditional Saudi Hijazi outfit\",\n",
        "            \"illustration of a Saudi Hijazi man in cultural heritage attire\",\n",
        "            \"Hijazi man, traditional clothing with orange turban, heritage visualization, western Saudi Arabia, digital art\",\n",
        "            \"Hijazi man in cultural attire, western Saudi Arabia, artistic style\",\n",
        "            \"Hijazi man in traditional heritage outfit, desert background, digital artwork\",\n",
        "            \"Hijazi man in embroidered thobe, western region, cultural heritage illustration\"\n",
        "        ]\n",
        "    },\n",
        "    \"najdi\": {\n",
        "        \"women\": [\n",
        "            \"Najdi woman, traditional embroidered dress, central Saudi Arabia, cultural digital art\",\n",
        "            \"Najdi woman in traditional heritage dress with embroidery, mountain background, artistic visualization\",\n",
        "            \"artistic depiction of a woman in a traditional Saudi Najdi outfit\",\n",
        "            \"illustration of a Saudi Najdi woman in cultural attire\",\n",
        "            \"Saudi woman in Najdi dress, chest and sleeve embroidery, detailed artistic patterns\",\n",
        "            \"Najdi woman in traditional dress with classic black burqa, Saudi heritage illustration\",\n",
        "            \"Saudi Najdi woman, golden burqa, traditional dress, cultural digital artwork\",\n",
        "            \"Traditional Najdi woman with golden headpiece and embroidered dress, artistic visualization\",\n",
        "            \"Najdi woman in ornate head accessory and embroidered dress, cultural digital art style\",\n",
        "            \"Najdi woman, traditional dress with heritage headscarf, central Saudi culture, illustration\",\n",
        "            \"Najdi woman, embroidered dress, central Saudi heritage, cultural artistic depiction\"\n",
        "        ],\n",
        "        \"men\": [\n",
        "            \"Najdi man in embroidered thobe, central Saudi Arabia, cultural illustration\",\n",
        "            \"Najdi man, traditional heritage outfit with embroidery, digital art style\",\n",
        "            \"artistic depiction of a man in a traditional Saudi Najdi outfit\",\n",
        "            \"illustration of a Saudi Najdi man wearing cultural heritage attire\",\n",
        "            \"Najdi man, traditional clothing, cultural visualization, central Saudi Arabia, digital artwork\",\n",
        "            \"Najdi man, embroidered thobe, central region, heritage outfit, artistic depiction\",\n",
        "            \"Najdi man in cultural attire with embroidery, desert background, digital art\",\n",
        "            \"Najdi man in embroidered thobe with shemagh headscarf, central Saudi heritage illustration\",\n",
        "            \"Najdi man, traditional outfit in desert background, cultural digital artwork\",\n",
        "            \"Najdi man, embroidered thobe, central Saudi Arabia, heritage visualization, artistic style\"\n",
        "        ]\n",
        "    }\n",
        "}\n",
        "\n",
        "for region, genders in classes.items():\n",
        "    for gender, prompts in genders.items():\n",
        "        for idx, prompt in enumerate(prompts):\n",
        "            full_prompt = f\"{prompt}, saudi heritage, traditional clothing, photorealistic, high detail, full body, saudi rich culture\"\n",
        "            negative_prompt = (\n",
        "                \"ugly, deformed, blurry, distorted, duplicate, disfigured, bad anatomy, cropped, \"\n",
        "                \"lowres, wrong outfit, text, watermark, signature, cartoon, vector style, \"\n",
        "                \"fabric texture background, textile background, ornate pattern, geometric border, \"\n",
        "                \"fabric texture border, modern abaya, embroidered panel, ceremonial robe\"\n",
        "            )\n",
        "\n",
        "            # Generate image\n",
        "            image = pipe(\n",
        "                full_prompt,\n",
        "                negative_prompt=negative_prompt,\n",
        "                num_inference_steps=75,\n",
        "                guidance_scale=8.0\n",
        "            ).images[0]\n",
        "\n",
        "            # Save path\n",
        "            subfolder = f\"shf-gen-outputs/{gender}/{region}\"\n",
        "            os.makedirs(subfolder, exist_ok=True)\n",
        "            filename = f\"{region}_{gender[:-1]}_{idx+1}.png\"\n",
        "            image.save(os.path.join(subfolder, filename))\n",
        "            print(f\"Saved: {os.path.join(subfolder, filename)}\")\n"
      ]
    }
  ],
  "metadata": {
    "accelerator": "GPU",
    "colab": {
      "gpuType": "T4",
      "provenance": []
    },
    "kernelspec": {
      "display_name": "Python 3",
      "name": "python3"
    },
    "language_info": {
      "name": "python"
    }
  },
  "nbformat": 4,
  "nbformat_minor": 0
}